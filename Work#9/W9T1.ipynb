{
 "cells": [
  {
   "cell_type": "markdown",
   "metadata": {},
   "source": [
    "Задание 1.\n",
    "Выберите датасет, который имеет отношение к вашей области интересов или исследований. \n",
    "Датасет должен содержать неструктурированные данные, требующие разметки для решения конкретной задачи, например, анализа настроений или распознавания именованных сущностей."
   ]
  },
  {
   "cell_type": "code",
   "execution_count": 1,
   "metadata": {},
   "outputs": [],
   "source": [
    "# Импортируем библиотеки для скачивания с сайта Kaggle\n",
    "from pathlib import Path\n",
    "import opendatasets as od\n",
    "# Импортируем библиотеки для работы с датасетом\n",
    "import pandas as pd\n",
    "import numpy as np\n",
    "# Импортируем библиотеки для построения графиков\n",
    "import matplotlib.pyplot as plt\n",
    "import seaborn as sns"
   ]
  },
  {
   "cell_type": "code",
   "execution_count": 2,
   "metadata": {},
   "outputs": [
    {
     "name": "stdout",
     "output_type": "stream",
     "text": [
      "Please provide your Kaggle credentials to download this dataset. Learn more: http://bit.ly/kaggle-creds\n",
      "Your Kaggle username:Your Kaggle Key:Dataset URL: https://www.kaggle.com/datasets/fedesoriano/heart-failure-prediction\n",
      "Downloading heart-failure-prediction.zip to .\\heart-failure-prediction\n"
     ]
    },
    {
     "name": "stderr",
     "output_type": "stream",
     "text": [
      "100%|██████████| 8.56k/8.56k [00:00<00:00, 2.92MB/s]"
     ]
    },
    {
     "name": "stdout",
     "output_type": "stream",
     "text": [
      "\n"
     ]
    },
    {
     "name": "stderr",
     "output_type": "stream",
     "text": [
      "\n"
     ]
    }
   ],
   "source": [
    "# Скачиваем дата сет с сайта Kaggle\n",
    "dataset_path = Path('house-prices')\n",
    "if not dataset_path.is_file():\n",
    "    od.download('https://www.kaggle.com/datasets/fedesoriano/heart-failure-prediction')"
   ]
  },
  {
   "cell_type": "markdown",
   "metadata": {},
   "source": [
    "Для начала выполним обработку DataSet"
   ]
  },
  {
   "cell_type": "code",
   "execution_count": 51,
   "metadata": {},
   "outputs": [],
   "source": [
    "# Добавляем файл датасет в DataFrame pandas\n",
    "df = pd.read_csv('C:\\\\Users\\\\Esdesu\\\\Desktop\\\\JreJre\\\\Сбор и разметка данных\\\\HomeWork\\\\Work#9\\\\heart-failure-prediction\\\\heart.csv')"
   ]
  },
  {
   "cell_type": "code",
   "execution_count": 52,
   "metadata": {},
   "outputs": [
    {
     "data": {
      "text/html": [
       "<div>\n",
       "<style scoped>\n",
       "    .dataframe tbody tr th:only-of-type {\n",
       "        vertical-align: middle;\n",
       "    }\n",
       "\n",
       "    .dataframe tbody tr th {\n",
       "        vertical-align: top;\n",
       "    }\n",
       "\n",
       "    .dataframe thead th {\n",
       "        text-align: right;\n",
       "    }\n",
       "</style>\n",
       "<table border=\"1\" class=\"dataframe\">\n",
       "  <thead>\n",
       "    <tr style=\"text-align: right;\">\n",
       "      <th></th>\n",
       "      <th>Age</th>\n",
       "      <th>Sex</th>\n",
       "      <th>ChestPainType</th>\n",
       "      <th>RestingBP</th>\n",
       "      <th>Cholesterol</th>\n",
       "      <th>FastingBS</th>\n",
       "      <th>RestingECG</th>\n",
       "      <th>MaxHR</th>\n",
       "      <th>ExerciseAngina</th>\n",
       "      <th>Oldpeak</th>\n",
       "      <th>ST_Slope</th>\n",
       "      <th>HeartDisease</th>\n",
       "    </tr>\n",
       "  </thead>\n",
       "  <tbody>\n",
       "    <tr>\n",
       "      <th>0</th>\n",
       "      <td>40</td>\n",
       "      <td>M</td>\n",
       "      <td>ATA</td>\n",
       "      <td>140</td>\n",
       "      <td>289</td>\n",
       "      <td>0</td>\n",
       "      <td>Normal</td>\n",
       "      <td>172</td>\n",
       "      <td>N</td>\n",
       "      <td>0.0</td>\n",
       "      <td>Up</td>\n",
       "      <td>0</td>\n",
       "    </tr>\n",
       "    <tr>\n",
       "      <th>1</th>\n",
       "      <td>49</td>\n",
       "      <td>F</td>\n",
       "      <td>NAP</td>\n",
       "      <td>160</td>\n",
       "      <td>180</td>\n",
       "      <td>0</td>\n",
       "      <td>Normal</td>\n",
       "      <td>156</td>\n",
       "      <td>N</td>\n",
       "      <td>1.0</td>\n",
       "      <td>Flat</td>\n",
       "      <td>1</td>\n",
       "    </tr>\n",
       "    <tr>\n",
       "      <th>2</th>\n",
       "      <td>37</td>\n",
       "      <td>M</td>\n",
       "      <td>ATA</td>\n",
       "      <td>130</td>\n",
       "      <td>283</td>\n",
       "      <td>0</td>\n",
       "      <td>ST</td>\n",
       "      <td>98</td>\n",
       "      <td>N</td>\n",
       "      <td>0.0</td>\n",
       "      <td>Up</td>\n",
       "      <td>0</td>\n",
       "    </tr>\n",
       "    <tr>\n",
       "      <th>3</th>\n",
       "      <td>48</td>\n",
       "      <td>F</td>\n",
       "      <td>ASY</td>\n",
       "      <td>138</td>\n",
       "      <td>214</td>\n",
       "      <td>0</td>\n",
       "      <td>Normal</td>\n",
       "      <td>108</td>\n",
       "      <td>Y</td>\n",
       "      <td>1.5</td>\n",
       "      <td>Flat</td>\n",
       "      <td>1</td>\n",
       "    </tr>\n",
       "    <tr>\n",
       "      <th>4</th>\n",
       "      <td>54</td>\n",
       "      <td>M</td>\n",
       "      <td>NAP</td>\n",
       "      <td>150</td>\n",
       "      <td>195</td>\n",
       "      <td>0</td>\n",
       "      <td>Normal</td>\n",
       "      <td>122</td>\n",
       "      <td>N</td>\n",
       "      <td>0.0</td>\n",
       "      <td>Up</td>\n",
       "      <td>0</td>\n",
       "    </tr>\n",
       "  </tbody>\n",
       "</table>\n",
       "</div>"
      ],
      "text/plain": [
       "   Age Sex ChestPainType  RestingBP  Cholesterol  FastingBS RestingECG  MaxHR  \\\n",
       "0   40   M           ATA        140          289          0     Normal    172   \n",
       "1   49   F           NAP        160          180          0     Normal    156   \n",
       "2   37   M           ATA        130          283          0         ST     98   \n",
       "3   48   F           ASY        138          214          0     Normal    108   \n",
       "4   54   M           NAP        150          195          0     Normal    122   \n",
       "\n",
       "  ExerciseAngina  Oldpeak ST_Slope  HeartDisease  \n",
       "0              N      0.0       Up             0  \n",
       "1              N      1.0     Flat             1  \n",
       "2              N      0.0       Up             0  \n",
       "3              Y      1.5     Flat             1  \n",
       "4              N      0.0       Up             0  "
      ]
     },
     "execution_count": 52,
     "metadata": {},
     "output_type": "execute_result"
    }
   ],
   "source": [
    "# Анализируем данные\n",
    "df.head()"
   ]
  },
  {
   "cell_type": "code",
   "execution_count": 53,
   "metadata": {},
   "outputs": [],
   "source": [
    "# Для дальнейшей работы приводим название колонок к нижнему регистру\n",
    "df.columns = df.columns.str.lower()"
   ]
  },
  {
   "cell_type": "code",
   "execution_count": 54,
   "metadata": {},
   "outputs": [
    {
     "name": "stdout",
     "output_type": "stream",
     "text": [
      "<class 'pandas.core.series.Series'>\n",
      "RangeIndex: 918 entries, 0 to 917\n",
      "Series name: age\n",
      "Non-Null Count  Dtype\n",
      "--------------  -----\n",
      "918 non-null    int64\n",
      "dtypes: int64(1)\n",
      "memory usage: 7.3 KB\n"
     ]
    },
    {
     "data": {
      "text/plain": [
       "array([40, 49, 37, 48, 54, 39, 45, 58, 42, 38, 43, 60, 36, 44, 53, 52, 51,\n",
       "       56, 41, 32, 65, 35, 59, 50, 47, 31, 46, 57, 55, 63, 66, 34, 33, 61,\n",
       "       29, 62, 28, 30, 74, 68, 72, 64, 69, 67, 73, 70, 77, 75, 76, 71],\n",
       "      dtype=int64)"
      ]
     },
     "execution_count": 54,
     "metadata": {},
     "output_type": "execute_result"
    }
   ],
   "source": [
    "# Обработка для столбца Age: age of the patient(Возраст пациента)\n",
    "df['age'].info() # Определяем тип данных, количество значений\n",
    "df['age'].unique() # Поиск уникальных значений"
   ]
  },
  {
   "cell_type": "code",
   "execution_count": 55,
   "metadata": {},
   "outputs": [
    {
     "name": "stdout",
     "output_type": "stream",
     "text": [
      "<class 'pandas.core.series.Series'>\n",
      "RangeIndex: 918 entries, 0 to 917\n",
      "Series name: sex\n",
      "Non-Null Count  Dtype \n",
      "--------------  ----- \n",
      "918 non-null    object\n",
      "dtypes: object(1)\n",
      "memory usage: 7.3+ KB\n"
     ]
    },
    {
     "data": {
      "text/plain": [
       "array(['M', 'F'], dtype=object)"
      ]
     },
     "execution_count": 55,
     "metadata": {},
     "output_type": "execute_result"
    }
   ],
   "source": [
    "# Обработка для столбца Sex: sex of the patient(Пол пациента)\n",
    "df['sex'].info() # Определяем тип данных, количество значений\n",
    "df['sex'].unique() # Поиск уникальных значений"
   ]
  },
  {
   "cell_type": "code",
   "execution_count": 56,
   "metadata": {},
   "outputs": [
    {
     "name": "stdout",
     "output_type": "stream",
     "text": [
      "<class 'pandas.core.series.Series'>\n",
      "RangeIndex: 918 entries, 0 to 917\n",
      "Series name: chestpaintype\n",
      "Non-Null Count  Dtype \n",
      "--------------  ----- \n",
      "918 non-null    object\n",
      "dtypes: object(1)\n",
      "memory usage: 7.3+ KB\n"
     ]
    },
    {
     "data": {
      "text/plain": [
       "array(['ATA', 'NAP', 'ASY', 'TA'], dtype=object)"
      ]
     },
     "execution_count": 56,
     "metadata": {},
     "output_type": "execute_result"
    }
   ],
   "source": [
    "# Обработка для столбца ChestPainType: chest pain type(Тип боли в груди)\n",
    "df['chestpaintype'].info() # Определяем тип данных, количество значений\n",
    "df['chestpaintype'].unique() # Поиск уникальных значений"
   ]
  },
  {
   "cell_type": "code",
   "execution_count": 57,
   "metadata": {},
   "outputs": [
    {
     "name": "stdout",
     "output_type": "stream",
     "text": [
      "<class 'pandas.core.series.Series'>\n",
      "RangeIndex: 918 entries, 0 to 917\n",
      "Series name: restingbp\n",
      "Non-Null Count  Dtype\n",
      "--------------  -----\n",
      "918 non-null    int64\n",
      "dtypes: int64(1)\n",
      "memory usage: 7.3 KB\n"
     ]
    },
    {
     "data": {
      "text/plain": [
       "array([140, 160, 130, 138, 150, 120, 110, 136, 115, 100, 124, 113, 125,\n",
       "       145, 112, 132, 118, 170, 142, 190, 135, 180, 108, 155, 128, 106,\n",
       "        92, 200, 122,  98, 105, 133,  95,  80, 137, 185, 165, 126, 152,\n",
       "       116,   0, 144, 154, 134, 104, 139, 131, 141, 178, 146, 158, 123,\n",
       "       102,  96, 143, 172, 156, 114, 127, 101, 174,  94, 148, 117, 192,\n",
       "       129, 164], dtype=int64)"
      ]
     },
     "execution_count": 57,
     "metadata": {},
     "output_type": "execute_result"
    }
   ],
   "source": [
    "# Обработка для столбца RestingBP: resting blood pressure(Артериальное давление в состоянии покоя)\n",
    "df['restingbp'].info() # Определяем тип данных, количество значений\n",
    "df['restingbp'].unique() # Поиск уникальных значений"
   ]
  },
  {
   "cell_type": "code",
   "execution_count": 58,
   "metadata": {},
   "outputs": [
    {
     "data": {
      "text/plain": [
       "count    918.00\n",
       "mean     132.40\n",
       "std       18.51\n",
       "min        0.00\n",
       "25%      120.00\n",
       "50%      130.00\n",
       "75%      140.00\n",
       "max      200.00\n",
       "Name: restingbp, dtype: float64"
      ]
     },
     "execution_count": 58,
     "metadata": {},
     "output_type": "execute_result"
    }
   ],
   "source": [
    "# Смотрим значения переменной\n",
    "df['restingbp'].describe().round(2)"
   ]
  },
  {
   "cell_type": "markdown",
   "metadata": {},
   "source": [
    "Обнаруженно одно 0, после анализа была принято решение привести значение к немного выше минимального."
   ]
  },
  {
   "cell_type": "code",
   "execution_count": 59,
   "metadata": {},
   "outputs": [],
   "source": [
    "# Сначала находим минимальное значение, исключая нули\n",
    "min_value = df['restingbp'][df['restingbp'] > 0].min()\n",
    "# Затем заменяем нулевые значения на значение чуть выше минимального\n",
    "df['restingbp'] = df['restingbp'].replace(0, min_value * 1.01)"
   ]
  },
  {
   "cell_type": "code",
   "execution_count": 60,
   "metadata": {},
   "outputs": [
    {
     "data": {
      "text/plain": [
       "count    918.00\n",
       "mean     132.48\n",
       "std       18.07\n",
       "min       80.00\n",
       "25%      120.00\n",
       "50%      130.00\n",
       "75%      140.00\n",
       "max      200.00\n",
       "Name: restingbp, dtype: float64"
      ]
     },
     "execution_count": 60,
     "metadata": {},
     "output_type": "execute_result"
    }
   ],
   "source": [
    "# Смотрим значения переменной\n",
    "df['restingbp'].describe().round(2)"
   ]
  },
  {
   "cell_type": "code",
   "execution_count": 61,
   "metadata": {},
   "outputs": [
    {
     "name": "stdout",
     "output_type": "stream",
     "text": [
      "<class 'pandas.core.series.Series'>\n",
      "RangeIndex: 918 entries, 0 to 917\n",
      "Series name: cholesterol\n",
      "Non-Null Count  Dtype\n",
      "--------------  -----\n",
      "918 non-null    int64\n",
      "dtypes: int64(1)\n",
      "memory usage: 7.3 KB\n"
     ]
    },
    {
     "data": {
      "text/plain": [
       "array([289, 180, 283, 214, 195, 339, 237, 208, 207, 284, 211, 164, 204,\n",
       "       234, 273, 196, 201, 248, 267, 223, 184, 288, 215, 209, 260, 468,\n",
       "       188, 518, 167, 224, 172, 186, 254, 306, 250, 177, 227, 230, 294,\n",
       "       264, 259, 175, 318, 216, 340, 233, 205, 245, 194, 270, 213, 365,\n",
       "       342, 253, 277, 202, 297, 225, 246, 412, 265, 182, 218, 268, 163,\n",
       "       529, 100, 206, 238, 139, 263, 291, 229, 307, 210, 329, 147,  85,\n",
       "       269, 275, 179, 392, 466, 129, 241, 255, 276, 282, 338, 160, 156,\n",
       "       272, 240, 393, 161, 228, 292, 388, 166, 247, 331, 341, 243, 279,\n",
       "       198, 249, 168, 603, 159, 190, 185, 290, 212, 231, 222, 235, 320,\n",
       "       187, 266, 287, 404, 312, 251, 328, 285, 280, 192, 193, 308, 219,\n",
       "       257, 132, 226, 217, 303, 298, 256, 117, 295, 173, 315, 281, 309,\n",
       "       200, 336, 355, 326, 171, 491, 271, 274, 394, 221, 126, 305, 220,\n",
       "       242, 347, 344, 358, 169, 181,   0, 236, 203, 153, 316, 311, 252,\n",
       "       458, 384, 258, 349, 142, 197, 113, 261, 310, 232, 110, 123, 170,\n",
       "       369, 152, 244, 165, 337, 300, 333, 385, 322, 564, 239, 293, 407,\n",
       "       149, 199, 417, 178, 319, 354, 330, 302, 313, 141, 327, 304, 286,\n",
       "       360, 262, 325, 299, 409, 174, 183, 321, 353, 335, 278, 157, 176,\n",
       "       131], dtype=int64)"
      ]
     },
     "execution_count": 61,
     "metadata": {},
     "output_type": "execute_result"
    }
   ],
   "source": [
    "# Обработка для столбца Cholesterol: serum cholesterol(Холестерин)\n",
    "df['cholesterol'].info() # Определяем тип данных, количество значений\n",
    "df['cholesterol'].unique() # Поиск уникальных значений"
   ]
  },
  {
   "cell_type": "code",
   "execution_count": 62,
   "metadata": {},
   "outputs": [
    {
     "data": {
      "text/plain": [
       "count    918.00\n",
       "mean     198.80\n",
       "std      109.38\n",
       "min        0.00\n",
       "25%      173.25\n",
       "50%      223.00\n",
       "75%      267.00\n",
       "max      603.00\n",
       "Name: cholesterol, dtype: float64"
      ]
     },
     "execution_count": 62,
     "metadata": {},
     "output_type": "execute_result"
    }
   ],
   "source": [
    "# Смотрим значения переменной\n",
    "df['cholesterol'].describe().round(2)"
   ]
  },
  {
   "cell_type": "markdown",
   "metadata": {},
   "source": [
    "Обнаруженно множество пустых данных 0, после анализа была принято решение заполнить данными немного выше среднего."
   ]
  },
  {
   "cell_type": "code",
   "execution_count": 63,
   "metadata": {},
   "outputs": [
    {
     "data": {
      "text/plain": [
       "array([289, 180, 283, 214, 195, 339, 237, 208, 207, 284, 211, 164, 204,\n",
       "       234, 273, 196, 201, 248, 267, 223, 184, 288, 215, 209, 260, 468,\n",
       "       188, 518, 167, 224, 172, 186, 254, 306, 250, 177, 227, 230, 294,\n",
       "       264, 259, 175, 318, 216, 340, 233, 205, 245, 194, 270, 213, 365,\n",
       "       342, 253, 277, 202, 297, 225, 246, 412, 265, 182, 218, 268, 163,\n",
       "       529, 100, 206, 238, 139, 263, 291, 229, 307, 210, 329, 147,  85,\n",
       "       269, 275, 179, 392, 466, 129, 241, 255, 276, 282, 338, 160, 156,\n",
       "       272, 240, 393, 161, 228, 292, 388, 166, 247, 331, 341, 243, 279,\n",
       "       198, 249, 168, 603, 159, 190, 185, 290, 212, 231, 222, 235, 320,\n",
       "       187, 266, 287, 404, 312, 251, 328, 285, 280, 192, 193, 308, 219,\n",
       "       257, 132, 226, 217, 303, 298, 256, 117, 295, 173, 315, 281, 309,\n",
       "       200, 336, 355, 326, 171, 491, 271, 274, 394, 221, 126, 305, 220,\n",
       "       242, 347, 344, 358, 169, 181, 236, 203, 153, 316, 311, 252, 458,\n",
       "       384, 258, 349, 142, 197, 113, 261, 310, 232, 110, 123, 170, 369,\n",
       "       152, 244, 165, 337, 300, 333, 385, 322, 564, 239, 293, 407, 149,\n",
       "       199, 417, 178, 319, 354, 330, 302, 313, 141, 327, 304, 286, 360,\n",
       "       262, 325, 299, 409, 174, 183, 321, 353, 335, 278, 157, 176, 131],\n",
       "      dtype=int64)"
      ]
     },
     "execution_count": 63,
     "metadata": {},
     "output_type": "execute_result"
    }
   ],
   "source": [
    "# Заполняем пустые значения средними значениями\n",
    "df['cholesterol'] = df['cholesterol'].replace(0, df['cholesterol'].quantile(0.9))\n",
    "# Проверяем\n",
    "df['cholesterol'].unique()"
   ]
  },
  {
   "cell_type": "code",
   "execution_count": 64,
   "metadata": {},
   "outputs": [
    {
     "data": {
      "text/plain": [
       "count    918.00\n",
       "mean     255.95\n",
       "std       58.29\n",
       "min       85.00\n",
       "25%      214.00\n",
       "50%      254.00\n",
       "75%      305.00\n",
       "max      603.00\n",
       "Name: cholesterol, dtype: float64"
      ]
     },
     "execution_count": 64,
     "metadata": {},
     "output_type": "execute_result"
    }
   ],
   "source": [
    "# Смотрим значения переменной\n",
    "df['cholesterol'].describe().round(2)"
   ]
  },
  {
   "cell_type": "code",
   "execution_count": 65,
   "metadata": {},
   "outputs": [
    {
     "name": "stdout",
     "output_type": "stream",
     "text": [
      "<class 'pandas.core.series.Series'>\n",
      "RangeIndex: 918 entries, 0 to 917\n",
      "Series name: fastingbs\n",
      "Non-Null Count  Dtype\n",
      "--------------  -----\n",
      "918 non-null    int64\n",
      "dtypes: int64(1)\n",
      "memory usage: 7.3 KB\n"
     ]
    },
    {
     "data": {
      "text/plain": [
       "array([0, 1], dtype=int64)"
      ]
     },
     "execution_count": 65,
     "metadata": {},
     "output_type": "execute_result"
    }
   ],
   "source": [
    "# Обработка для столбца FastingBS: fasting blood sugar(Уровень сахара в крови натощак(Диабет))\n",
    "df['fastingbs'].info() # Определяем тип данных, количество значений\n",
    "df['fastingbs'].unique() # Поиск уникальных значений"
   ]
  },
  {
   "cell_type": "code",
   "execution_count": 66,
   "metadata": {},
   "outputs": [
    {
     "name": "stdout",
     "output_type": "stream",
     "text": [
      "<class 'pandas.core.series.Series'>\n",
      "RangeIndex: 918 entries, 0 to 917\n",
      "Series name: restingecg\n",
      "Non-Null Count  Dtype \n",
      "--------------  ----- \n",
      "918 non-null    object\n",
      "dtypes: object(1)\n",
      "memory usage: 7.3+ KB\n"
     ]
    },
    {
     "data": {
      "text/plain": [
       "array(['Normal', 'ST', 'LVH'], dtype=object)"
      ]
     },
     "execution_count": 66,
     "metadata": {},
     "output_type": "execute_result"
    }
   ],
   "source": [
    "# Обработка для столбца RestingECG: resting electrocardiogram results(Результаты электрокардиограммы покоя)\n",
    "df['restingecg'].info() # Определяем тип данных, количество значений\n",
    "df['restingecg'].unique() # Поиск уникальных значений"
   ]
  },
  {
   "cell_type": "code",
   "execution_count": 67,
   "metadata": {},
   "outputs": [
    {
     "name": "stdout",
     "output_type": "stream",
     "text": [
      "<class 'pandas.core.series.Series'>\n",
      "RangeIndex: 918 entries, 0 to 917\n",
      "Series name: maxhr\n",
      "Non-Null Count  Dtype\n",
      "--------------  -----\n",
      "918 non-null    int64\n",
      "dtypes: int64(1)\n",
      "memory usage: 7.3 KB\n"
     ]
    },
    {
     "data": {
      "text/plain": [
       "array([172, 156,  98, 108, 122, 170, 142, 130, 120,  99, 145, 140, 137,\n",
       "       150, 166, 165, 125, 160, 164, 138, 178, 112, 118, 127, 114, 154,\n",
       "       155,  87, 148, 100, 168, 184, 121, 153, 134,  96, 174, 175, 144,\n",
       "        82, 135, 115, 128, 116,  94, 110,  92, 180, 152, 124, 106, 185,\n",
       "       139, 190, 146, 158, 132, 176, 119, 188, 162, 105,  90, 136, 167,\n",
       "       129, 102, 143, 103,  91, 126,  93, 131, 149, 123, 182, 141,  77,\n",
       "       109, 133, 179, 113, 104,  95,  72,  97, 117,  86,  63, 157,  83,\n",
       "        60,  70, 163,  67,  78,  84, 111,  80, 107, 161,  69,  88,  73,\n",
       "       159, 151, 181, 186, 177, 173, 169, 171, 147,  71, 192, 195, 194,\n",
       "       187, 202], dtype=int64)"
      ]
     },
     "execution_count": 67,
     "metadata": {},
     "output_type": "execute_result"
    }
   ],
   "source": [
    "# Обработка для столбца MaxHR: maximum heart rate achieved(Максимальная частота пульса)\n",
    "df['maxhr'].info() # Определяем тип данных, количество значений\n",
    "df['maxhr'].unique() # Поиск уникальных значений"
   ]
  },
  {
   "cell_type": "code",
   "execution_count": 68,
   "metadata": {},
   "outputs": [
    {
     "name": "stdout",
     "output_type": "stream",
     "text": [
      "<class 'pandas.core.series.Series'>\n",
      "RangeIndex: 918 entries, 0 to 917\n",
      "Series name: exerciseangina\n",
      "Non-Null Count  Dtype \n",
      "--------------  ----- \n",
      "918 non-null    object\n",
      "dtypes: object(1)\n",
      "memory usage: 7.3+ KB\n"
     ]
    },
    {
     "data": {
      "text/plain": [
       "array(['N', 'Y'], dtype=object)"
      ]
     },
     "execution_count": 68,
     "metadata": {},
     "output_type": "execute_result"
    }
   ],
   "source": [
    "# Обработка для столбца ExerciseAngina: exercise-induced angina(Стенокардия, вызванная физической нагрузкой)\n",
    "df['exerciseangina'].info() # Определяем тип данных, количество значений\n",
    "df['exerciseangina'].unique() # Поиск уникальных значений"
   ]
  },
  {
   "cell_type": "code",
   "execution_count": 69,
   "metadata": {},
   "outputs": [
    {
     "name": "stdout",
     "output_type": "stream",
     "text": [
      "<class 'pandas.core.series.Series'>\n",
      "RangeIndex: 918 entries, 0 to 917\n",
      "Series name: oldpeak\n",
      "Non-Null Count  Dtype  \n",
      "--------------  -----  \n",
      "918 non-null    float64\n",
      "dtypes: float64(1)\n",
      "memory usage: 7.3 KB\n"
     ]
    },
    {
     "data": {
      "text/plain": [
       "array([ 0. ,  1. ,  1.5,  2. ,  3. ,  4. ,  0.5,  2.5,  5. ,  0.8,  0.7,\n",
       "        1.4,  2.1,  0.4,  0.2,  1.7,  2.2,  0.1,  1.6,  1.3,  0.3,  1.8,\n",
       "        2.6, -0.9,  2.8, -2.6, -1.5, -0.1,  0.9,  1.1,  2.4, -1. , -1.1,\n",
       "       -0.7, -0.8,  3.7,  1.2, -0.5, -2. ,  1.9,  3.5,  0.6,  3.1,  2.3,\n",
       "        3.4,  3.6,  4.2,  3.2,  5.6,  3.8,  2.9,  6.2,  4.4])"
      ]
     },
     "execution_count": 69,
     "metadata": {},
     "output_type": "execute_result"
    }
   ],
   "source": [
    "# Обработка для столбца Oldpeak\n",
    "df['oldpeak'].info() # Определяем тип данных, количество значений\n",
    "df['oldpeak'].unique() # Поиск уникальных значений"
   ]
  },
  {
   "cell_type": "code",
   "execution_count": 70,
   "metadata": {},
   "outputs": [
    {
     "name": "stdout",
     "output_type": "stream",
     "text": [
      "<class 'pandas.core.series.Series'>\n",
      "RangeIndex: 918 entries, 0 to 917\n",
      "Series name: st_slope\n",
      "Non-Null Count  Dtype \n",
      "--------------  ----- \n",
      "918 non-null    object\n",
      "dtypes: object(1)\n",
      "memory usage: 7.3+ KB\n"
     ]
    },
    {
     "data": {
      "text/plain": [
       "array(['Up', 'Flat', 'Down'], dtype=object)"
      ]
     },
     "execution_count": 70,
     "metadata": {},
     "output_type": "execute_result"
    }
   ],
   "source": [
    "# Обработка для столбца ST_Slope: the slope of the peak exercise ST segment(Наклон пикового сегмента ST при нагрузке)\n",
    "df['st_slope'].info() # Определяем тип данных, количество значений\n",
    "df['st_slope'].unique() # Поиск уникальных значений"
   ]
  },
  {
   "cell_type": "code",
   "execution_count": 71,
   "metadata": {},
   "outputs": [
    {
     "name": "stdout",
     "output_type": "stream",
     "text": [
      "<class 'pandas.core.series.Series'>\n",
      "RangeIndex: 918 entries, 0 to 917\n",
      "Series name: heartdisease\n",
      "Non-Null Count  Dtype\n",
      "--------------  -----\n",
      "918 non-null    int64\n",
      "dtypes: int64(1)\n",
      "memory usage: 7.3 KB\n"
     ]
    },
    {
     "data": {
      "text/plain": [
       "array([0, 1], dtype=int64)"
      ]
     },
     "execution_count": 71,
     "metadata": {},
     "output_type": "execute_result"
    }
   ],
   "source": [
    "# Обработка для столбца HeartDisease(Болезнь сердца)\n",
    "df['heartdisease'].info() # Определяем тип данных, количество значений\n",
    "df['heartdisease'].unique() # Поиск уникальных значений"
   ]
  },
  {
   "cell_type": "code",
   "execution_count": 72,
   "metadata": {},
   "outputs": [
    {
     "name": "stdout",
     "output_type": "stream",
     "text": [
      "<class 'pandas.core.frame.DataFrame'>\n",
      "RangeIndex: 918 entries, 0 to 917\n",
      "Data columns (total 12 columns):\n",
      " #   Column          Non-Null Count  Dtype  \n",
      "---  ------          --------------  -----  \n",
      " 0   age             918 non-null    int64  \n",
      " 1   sex             918 non-null    object \n",
      " 2   chestpaintype   918 non-null    object \n",
      " 3   restingbp       918 non-null    float64\n",
      " 4   cholesterol     918 non-null    int64  \n",
      " 5   fastingbs       918 non-null    int64  \n",
      " 6   restingecg      918 non-null    object \n",
      " 7   maxhr           918 non-null    int64  \n",
      " 8   exerciseangina  918 non-null    object \n",
      " 9   oldpeak         918 non-null    float64\n",
      " 10  st_slope        918 non-null    object \n",
      " 11  heartdisease    918 non-null    int64  \n",
      "dtypes: float64(2), int64(5), object(5)\n",
      "memory usage: 86.2+ KB\n"
     ]
    }
   ],
   "source": [
    "# Анализируем типы данных\n",
    "df.info()"
   ]
  },
  {
   "cell_type": "markdown",
   "metadata": {},
   "source": [
    "Dataset Description\n",
    "\n",
    "1. Age: age of the patient [years]\n",
    "2. Sex: sex of the patient [M: Male, F: Female]\n",
    "3. ChestPainType: chest pain type [TA: Typical Angina, ATA: Atypical Angina, NAP: Non-Anginal Pain, ASY: Asymptomatic]\n",
    "4. RestingBP: resting blood pressure [mm Hg]\n",
    "5. Cholesterol: serum cholesterol [mm/dl]\n",
    "6. FastingBS: fasting blood sugar [1: if FastingBS > 120 mg/dl, 0: otherwise]\n",
    "7. RestingECG: resting electrocardiogram results [Normal: Normal, ST: having ST-T wave abnormality (T wave inversions and/or ST elevation or depression of > 0.05 mV), LVH: showing probable or definite left ventricular hypertrophy by Estes' criteria]\n",
    "8. MaxHR: maximum heart rate achieved [Numeric value between 60 and 202]\n",
    "9. ExerciseAngina: exercise-induced angina [Y: Yes, N: No]\n",
    "10. Oldpeak: oldpeak = ST [Numeric value measured in depression]\n",
    "11. ST_Slope: the slope of the peak exercise ST segment [Up: upsloping, Flat: flat, Down: downsloping]\n",
    "12. HeartDisease: output class [1: heart disease, 0: Normal]"
   ]
  },
  {
   "cell_type": "markdown",
   "metadata": {},
   "source": [
    "Описание набора данных\n",
    "\n",
    "1. Возраст: возраст пациента [лет]\n",
    "2. Пол: пол пациента [М: Мужчина, Ж: Женщина]\n",
    "3. ChestPainType: тип боли в груди [TA: типичная стенокардия, ATA: атипичная стенокардия, NAP: неангинальная боль, ASY: бессимптомная]\n",
    "4. RestingBP: артериальное давление в состоянии покоя [мм рт. ст.]\n",
    "5. Холестерин: холестерин сыворотки [мм/дл]\n",
    "6. FastingBS: уровень сахара в крови натощак [1: если FastingBS > 120 мг/дл, 0: в противном случае]\n",
    "7. ЭКГ покоя: результаты электрокардиограммы покоя [Нормальный: нормальный, ST: наличие аномалий ST-T (инверсия зубца T и/или подъем или депрессия ST > 0,05 мВ), ГЛЖ: вероятная или определенная гипертрофия левого желудочка по критериям Эстеса ]\n",
    "8. MaxHR: достигнутая максимальная частота пульса [числовое значение от 60 до 202]\n",
    "9. Стенокардия при физической нагрузке: стенокардия, вызванная физической нагрузкой [Д: Да, Н: Нет]\n",
    "10. Oldpeak: oldpeak = ST [числовое значение, измеренное в депрессии]\n",
    "11. ST_Slope: наклон пикового сегмента ST при нагрузке [Вверх: наклон вверх, Плоский: плоский, Вниз: наклон вниз]\n",
    "12. HeartDisease: выходной класс [1: заболевание сердца, 0: нормальное]"
   ]
  },
  {
   "cell_type": "markdown",
   "metadata": {},
   "source": [
    "Данный DataSet представляет собой сбор данных сердечно-сосудистых заболеваний. Разработываемая модель должна анализировать данные и сама определять риск заболевания, для пациента на основе собраных данных исследований."
   ]
  },
  {
   "cell_type": "markdown",
   "metadata": {},
   "source": [
    "Задание 2.\n",
    "Выполните разметку на основе правил (rule-based labeling) на подмножестве выбранного датасета. \n",
    "Разработайте и реализуйте набор правил или условий, которые позволят автоматически присваивать метки данным на основе определенных шаблонов или критериев."
   ]
  },
  {
   "cell_type": "code",
   "execution_count": 73,
   "metadata": {},
   "outputs": [],
   "source": [
    "# Для удобства разделим DataSet на два для разметки автоматически 95% и вручную 5%\n",
    "# Импорт модуля библиотеки для разделения df\n",
    "from sklearn.model_selection import train_test_split\n",
    "\n",
    "df_auto, df_manual = train_test_split(df, test_size=0.05, random_state=42)"
   ]
  },
  {
   "cell_type": "code",
   "execution_count": 83,
   "metadata": {},
   "outputs": [],
   "source": [
    "def risk_disease(row, age, chestpaintype, fastingbs, st_slope, heartdisease):\n",
    "    if (row[age] >= 28 and row[age] <= 50) and row[chestpaintype] == 'ASY' and row[st_slope] == 'Up' and row[heartdisease] != 1:\n",
    "        return 'BA' # Risk Disease Below Average\n",
    "    elif (row[age] >= 28 and row[age] <= 50) and row[chestpaintype] == 'ASY' and row[st_slope] == 'Flat' and row[heartdisease] != 1:\n",
    "        return 'H' # Risk Disease High\n",
    "    elif (row[age] >= 28 and row[age] <= 50) and row[chestpaintype] == 'ASY' and row[st_slope] == 'Down' and row[heartdisease] != 1:\n",
    "        return 'VH' # Risk Disease Very High\n",
    "    elif (row[age] >= 28 and row[age] <= 50) and row[chestpaintype] == 'NAP' and row[st_slope] == 'Up' and row[heartdisease] != 1:\n",
    "        return 'M' # Risk Disease Minimal\n",
    "    elif (row[age] >= 28 and row[age] <= 50) and row[chestpaintype] == 'NAP' and row[st_slope] == 'Flat' and row[heartdisease] != 1:\n",
    "        return 'A' # Risk Disease Average\n",
    "    elif (row[age] >= 28 and row[age] <= 50) and row[chestpaintype] == 'NAP' and row[fastingbs] != 1 and row[st_slope] == 'Down' and row[heartdisease] != 1:\n",
    "        return 'M' # Risk Disease Minimal\n",
    "    elif (row[age] >= 28 and row[age] <= 50) and row[chestpaintype] == 'ATA' and row[st_slope] == 'Up' and row[heartdisease] != 1:\n",
    "        return 'VM' # Risk Disease Very Minimal\n",
    "    elif (row[age] >= 28 and row[age] <= 50) and row[chestpaintype] == 'ATA' and row[st_slope] == 'Flat' and row[heartdisease] != 1:\n",
    "        return 'BA' # Risk Disease Below Average\n",
    "    elif (row[age] >= 28 and row[age] <= 50) and row[chestpaintype] == 'ATA' and row[st_slope] == 'Down' and row[heartdisease] != 1:\n",
    "        return 'VH' # Risk Disease Very High\n",
    "    elif (row[age] >= 28 and row[age] <= 50) and row[chestpaintype] == 'TA' and row[st_slope] == 'Up' and row[heartdisease] != 1:\n",
    "        return 'VM' # Risk Disease Very Minimal\n",
    "    elif (row[age] >= 28 and row[age] <= 50) and row[chestpaintype] == 'TA' and row[st_slope] == 'Flat' and row[heartdisease] != 1:\n",
    "        return 'VH' # Risk Disease Very High \n",
    "    elif (row[age] >= 51 and row[age] <= 77) and row[chestpaintype] == 'ASY' and row[st_slope] == 'Up' and row[heartdisease] != 1:\n",
    "        return 'A' # Risk Disease Average\n",
    "    elif (row[age] >= 51 and row[age] <= 77) and row[chestpaintype] == 'ASY' and row[st_slope] == 'Flat' and row[heartdisease] != 1:\n",
    "        return 'H' # Risk Disease Hing\n",
    "    elif (row[age] >= 51 and row[age] <= 77) and row[chestpaintype] == 'ASY' and row[st_slope] == 'Down' and row[heartdisease] != 1:\n",
    "        return 'VH' # Risk Disease Very High\n",
    "    elif (row[age] >= 51 and row[age] <= 77) and row[chestpaintype] == 'NAP' and row[st_slope] == 'Up' and row[heartdisease] != 1:\n",
    "        return 'VM' # Risk Disease Very Minimal\n",
    "    elif (row[age] >= 51 and row[age] <= 77) and row[chestpaintype] == 'NAP' and row[st_slope] == 'Flat' and row[heartdisease] != 1:\n",
    "        return 'M' # Risk Disease Minimal\n",
    "    elif (row[age] >= 51 and row[age] <= 77) and row[chestpaintype] == 'NAP' and row[st_slope] == 'Down' and row[heartdisease] != 1:\n",
    "        return 'H' # Risk Disease Hing\n",
    "    elif (row[age] >= 51 and row[age] <= 77) and row[chestpaintype] == 'ATA' and row[st_slope] == 'Up' and row[heartdisease] != 1:\n",
    "        return 'VM' # Risk Disease Very Minimal\n",
    "    elif (row[age] >= 51 and row[age] <= 77) and row[chestpaintype] == 'ATA' and row[st_slope] == 'Flat' and row[heartdisease] != 1:\n",
    "        return 'AA' # Risk Above Average\n",
    "    elif (row[age] >= 51 and row[age] <= 77) and row[chestpaintype] == 'ATA' and row[st_slope] == 'Down' and row[heartdisease] != 1:\n",
    "        return 'VM' # Risk Disease Very Minimal\n",
    "    elif (row[age] >= 51 and row[age] <= 77) and row[chestpaintype] == 'TA' and row[st_slope] == 'Up' and row[heartdisease] != 1:\n",
    "        return 'VM' # Risk Disease Very Minimal\n",
    "    elif (row[age] >= 51 and row[age] <= 77) and row[chestpaintype] == 'TA' and row[st_slope] == 'Flat' and row[heartdisease] != 1:\n",
    "        return 'A' # Risk Disease Average\n",
    "    elif (row[age] >= 51 and row[age] <= 77) and row[chestpaintype] == 'TA' and row[st_slope] == 'Down' and row[heartdisease] != 1:\n",
    "        return 'VM' # Risk Disease Very Minimal\n",
    "    else:\n",
    "        return 'HD' # Heart Disease\n",
    "\n",
    "df_auto['risk_disease'] = df_auto.apply(lambda row: risk_disease(row, 'age', 'chestpaintype', 'fastingbs', 'st_slope', 'heartdisease'), axis = 1)"
   ]
  },
  {
   "cell_type": "code",
   "execution_count": 87,
   "metadata": {},
   "outputs": [
    {
     "data": {
      "text/html": [
       "<div>\n",
       "<style scoped>\n",
       "    .dataframe tbody tr th:only-of-type {\n",
       "        vertical-align: middle;\n",
       "    }\n",
       "\n",
       "    .dataframe tbody tr th {\n",
       "        vertical-align: top;\n",
       "    }\n",
       "\n",
       "    .dataframe thead th {\n",
       "        text-align: right;\n",
       "    }\n",
       "</style>\n",
       "<table border=\"1\" class=\"dataframe\">\n",
       "  <thead>\n",
       "    <tr style=\"text-align: right;\">\n",
       "      <th></th>\n",
       "      <th>age</th>\n",
       "      <th>sex</th>\n",
       "      <th>chestpaintype</th>\n",
       "      <th>restingbp</th>\n",
       "      <th>cholesterol</th>\n",
       "      <th>fastingbs</th>\n",
       "      <th>restingecg</th>\n",
       "      <th>maxhr</th>\n",
       "      <th>exerciseangina</th>\n",
       "      <th>oldpeak</th>\n",
       "      <th>st_slope</th>\n",
       "      <th>heartdisease</th>\n",
       "      <th>risk_disease</th>\n",
       "    </tr>\n",
       "  </thead>\n",
       "  <tbody>\n",
       "    <tr>\n",
       "      <th>250</th>\n",
       "      <td>44</td>\n",
       "      <td>M</td>\n",
       "      <td>ASY</td>\n",
       "      <td>135.0</td>\n",
       "      <td>491</td>\n",
       "      <td>0</td>\n",
       "      <td>Normal</td>\n",
       "      <td>135</td>\n",
       "      <td>N</td>\n",
       "      <td>0.0</td>\n",
       "      <td>Flat</td>\n",
       "      <td>1</td>\n",
       "      <td>HD</td>\n",
       "    </tr>\n",
       "    <tr>\n",
       "      <th>752</th>\n",
       "      <td>56</td>\n",
       "      <td>M</td>\n",
       "      <td>ASY</td>\n",
       "      <td>125.0</td>\n",
       "      <td>249</td>\n",
       "      <td>1</td>\n",
       "      <td>LVH</td>\n",
       "      <td>144</td>\n",
       "      <td>Y</td>\n",
       "      <td>1.2</td>\n",
       "      <td>Flat</td>\n",
       "      <td>1</td>\n",
       "      <td>HD</td>\n",
       "    </tr>\n",
       "    <tr>\n",
       "      <th>350</th>\n",
       "      <td>53</td>\n",
       "      <td>M</td>\n",
       "      <td>ASY</td>\n",
       "      <td>120.0</td>\n",
       "      <td>305</td>\n",
       "      <td>1</td>\n",
       "      <td>Normal</td>\n",
       "      <td>120</td>\n",
       "      <td>N</td>\n",
       "      <td>0.0</td>\n",
       "      <td>Flat</td>\n",
       "      <td>1</td>\n",
       "      <td>HD</td>\n",
       "    </tr>\n",
       "    <tr>\n",
       "      <th>758</th>\n",
       "      <td>51</td>\n",
       "      <td>M</td>\n",
       "      <td>TA</td>\n",
       "      <td>125.0</td>\n",
       "      <td>213</td>\n",
       "      <td>0</td>\n",
       "      <td>LVH</td>\n",
       "      <td>125</td>\n",
       "      <td>Y</td>\n",
       "      <td>1.4</td>\n",
       "      <td>Up</td>\n",
       "      <td>0</td>\n",
       "      <td>VM</td>\n",
       "    </tr>\n",
       "    <tr>\n",
       "      <th>759</th>\n",
       "      <td>54</td>\n",
       "      <td>M</td>\n",
       "      <td>ATA</td>\n",
       "      <td>192.0</td>\n",
       "      <td>283</td>\n",
       "      <td>0</td>\n",
       "      <td>LVH</td>\n",
       "      <td>195</td>\n",
       "      <td>N</td>\n",
       "      <td>0.0</td>\n",
       "      <td>Up</td>\n",
       "      <td>1</td>\n",
       "      <td>HD</td>\n",
       "    </tr>\n",
       "    <tr>\n",
       "      <th>107</th>\n",
       "      <td>34</td>\n",
       "      <td>M</td>\n",
       "      <td>ATA</td>\n",
       "      <td>150.0</td>\n",
       "      <td>214</td>\n",
       "      <td>0</td>\n",
       "      <td>ST</td>\n",
       "      <td>168</td>\n",
       "      <td>N</td>\n",
       "      <td>0.0</td>\n",
       "      <td>Up</td>\n",
       "      <td>0</td>\n",
       "      <td>VM</td>\n",
       "    </tr>\n",
       "    <tr>\n",
       "      <th>445</th>\n",
       "      <td>55</td>\n",
       "      <td>M</td>\n",
       "      <td>NAP</td>\n",
       "      <td>136.0</td>\n",
       "      <td>228</td>\n",
       "      <td>0</td>\n",
       "      <td>ST</td>\n",
       "      <td>124</td>\n",
       "      <td>Y</td>\n",
       "      <td>1.6</td>\n",
       "      <td>Flat</td>\n",
       "      <td>1</td>\n",
       "      <td>HD</td>\n",
       "    </tr>\n",
       "    <tr>\n",
       "      <th>141</th>\n",
       "      <td>50</td>\n",
       "      <td>M</td>\n",
       "      <td>ASY</td>\n",
       "      <td>140.0</td>\n",
       "      <td>341</td>\n",
       "      <td>0</td>\n",
       "      <td>ST</td>\n",
       "      <td>125</td>\n",
       "      <td>Y</td>\n",
       "      <td>2.5</td>\n",
       "      <td>Flat</td>\n",
       "      <td>1</td>\n",
       "      <td>HD</td>\n",
       "    </tr>\n",
       "    <tr>\n",
       "      <th>650</th>\n",
       "      <td>48</td>\n",
       "      <td>M</td>\n",
       "      <td>ASY</td>\n",
       "      <td>130.0</td>\n",
       "      <td>256</td>\n",
       "      <td>1</td>\n",
       "      <td>LVH</td>\n",
       "      <td>150</td>\n",
       "      <td>Y</td>\n",
       "      <td>0.0</td>\n",
       "      <td>Up</td>\n",
       "      <td>1</td>\n",
       "      <td>HD</td>\n",
       "    </tr>\n",
       "    <tr>\n",
       "      <th>544</th>\n",
       "      <td>61</td>\n",
       "      <td>F</td>\n",
       "      <td>ATA</td>\n",
       "      <td>140.0</td>\n",
       "      <td>298</td>\n",
       "      <td>1</td>\n",
       "      <td>Normal</td>\n",
       "      <td>120</td>\n",
       "      <td>Y</td>\n",
       "      <td>0.0</td>\n",
       "      <td>Up</td>\n",
       "      <td>0</td>\n",
       "      <td>VM</td>\n",
       "    </tr>\n",
       "    <tr>\n",
       "      <th>110</th>\n",
       "      <td>59</td>\n",
       "      <td>F</td>\n",
       "      <td>ATA</td>\n",
       "      <td>130.0</td>\n",
       "      <td>188</td>\n",
       "      <td>0</td>\n",
       "      <td>Normal</td>\n",
       "      <td>124</td>\n",
       "      <td>N</td>\n",
       "      <td>1.0</td>\n",
       "      <td>Flat</td>\n",
       "      <td>0</td>\n",
       "      <td>AA</td>\n",
       "    </tr>\n",
       "    <tr>\n",
       "      <th>593</th>\n",
       "      <td>64</td>\n",
       "      <td>M</td>\n",
       "      <td>ASY</td>\n",
       "      <td>130.0</td>\n",
       "      <td>258</td>\n",
       "      <td>1</td>\n",
       "      <td>LVH</td>\n",
       "      <td>130</td>\n",
       "      <td>N</td>\n",
       "      <td>0.0</td>\n",
       "      <td>Flat</td>\n",
       "      <td>1</td>\n",
       "      <td>HD</td>\n",
       "    </tr>\n",
       "    <tr>\n",
       "      <th>519</th>\n",
       "      <td>63</td>\n",
       "      <td>M</td>\n",
       "      <td>ASY</td>\n",
       "      <td>96.0</td>\n",
       "      <td>305</td>\n",
       "      <td>0</td>\n",
       "      <td>ST</td>\n",
       "      <td>121</td>\n",
       "      <td>Y</td>\n",
       "      <td>1.0</td>\n",
       "      <td>Up</td>\n",
       "      <td>1</td>\n",
       "      <td>HD</td>\n",
       "    </tr>\n",
       "    <tr>\n",
       "      <th>907</th>\n",
       "      <td>44</td>\n",
       "      <td>M</td>\n",
       "      <td>ASY</td>\n",
       "      <td>120.0</td>\n",
       "      <td>169</td>\n",
       "      <td>0</td>\n",
       "      <td>Normal</td>\n",
       "      <td>144</td>\n",
       "      <td>Y</td>\n",
       "      <td>2.8</td>\n",
       "      <td>Down</td>\n",
       "      <td>1</td>\n",
       "      <td>HD</td>\n",
       "    </tr>\n",
       "    <tr>\n",
       "      <th>675</th>\n",
       "      <td>57</td>\n",
       "      <td>M</td>\n",
       "      <td>NAP</td>\n",
       "      <td>150.0</td>\n",
       "      <td>126</td>\n",
       "      <td>1</td>\n",
       "      <td>Normal</td>\n",
       "      <td>173</td>\n",
       "      <td>N</td>\n",
       "      <td>0.2</td>\n",
       "      <td>Up</td>\n",
       "      <td>0</td>\n",
       "      <td>VM</td>\n",
       "    </tr>\n",
       "    <tr>\n",
       "      <th>280</th>\n",
       "      <td>60</td>\n",
       "      <td>M</td>\n",
       "      <td>NAP</td>\n",
       "      <td>120.0</td>\n",
       "      <td>246</td>\n",
       "      <td>0</td>\n",
       "      <td>LVH</td>\n",
       "      <td>135</td>\n",
       "      <td>N</td>\n",
       "      <td>0.0</td>\n",
       "      <td>Up</td>\n",
       "      <td>0</td>\n",
       "      <td>VM</td>\n",
       "    </tr>\n",
       "    <tr>\n",
       "      <th>136</th>\n",
       "      <td>43</td>\n",
       "      <td>F</td>\n",
       "      <td>ATA</td>\n",
       "      <td>120.0</td>\n",
       "      <td>215</td>\n",
       "      <td>0</td>\n",
       "      <td>ST</td>\n",
       "      <td>175</td>\n",
       "      <td>N</td>\n",
       "      <td>0.0</td>\n",
       "      <td>Up</td>\n",
       "      <td>0</td>\n",
       "      <td>VM</td>\n",
       "    </tr>\n",
       "    <tr>\n",
       "      <th>422</th>\n",
       "      <td>65</td>\n",
       "      <td>M</td>\n",
       "      <td>ASY</td>\n",
       "      <td>150.0</td>\n",
       "      <td>236</td>\n",
       "      <td>1</td>\n",
       "      <td>ST</td>\n",
       "      <td>105</td>\n",
       "      <td>Y</td>\n",
       "      <td>0.0</td>\n",
       "      <td>Flat</td>\n",
       "      <td>1</td>\n",
       "      <td>HD</td>\n",
       "    </tr>\n",
       "    <tr>\n",
       "      <th>208</th>\n",
       "      <td>28</td>\n",
       "      <td>M</td>\n",
       "      <td>ATA</td>\n",
       "      <td>130.0</td>\n",
       "      <td>132</td>\n",
       "      <td>0</td>\n",
       "      <td>LVH</td>\n",
       "      <td>185</td>\n",
       "      <td>N</td>\n",
       "      <td>0.0</td>\n",
       "      <td>Up</td>\n",
       "      <td>0</td>\n",
       "      <td>VM</td>\n",
       "    </tr>\n",
       "    <tr>\n",
       "      <th>442</th>\n",
       "      <td>51</td>\n",
       "      <td>M</td>\n",
       "      <td>ASY</td>\n",
       "      <td>128.0</td>\n",
       "      <td>305</td>\n",
       "      <td>1</td>\n",
       "      <td>ST</td>\n",
       "      <td>125</td>\n",
       "      <td>Y</td>\n",
       "      <td>1.2</td>\n",
       "      <td>Flat</td>\n",
       "      <td>1</td>\n",
       "      <td>HD</td>\n",
       "    </tr>\n",
       "    <tr>\n",
       "      <th>86</th>\n",
       "      <td>65</td>\n",
       "      <td>M</td>\n",
       "      <td>ASY</td>\n",
       "      <td>170.0</td>\n",
       "      <td>263</td>\n",
       "      <td>1</td>\n",
       "      <td>Normal</td>\n",
       "      <td>112</td>\n",
       "      <td>Y</td>\n",
       "      <td>2.0</td>\n",
       "      <td>Flat</td>\n",
       "      <td>1</td>\n",
       "      <td>HD</td>\n",
       "    </tr>\n",
       "    <tr>\n",
       "      <th>44</th>\n",
       "      <td>43</td>\n",
       "      <td>M</td>\n",
       "      <td>ASY</td>\n",
       "      <td>120.0</td>\n",
       "      <td>175</td>\n",
       "      <td>0</td>\n",
       "      <td>Normal</td>\n",
       "      <td>120</td>\n",
       "      <td>Y</td>\n",
       "      <td>1.0</td>\n",
       "      <td>Flat</td>\n",
       "      <td>1</td>\n",
       "      <td>HD</td>\n",
       "    </tr>\n",
       "    <tr>\n",
       "      <th>531</th>\n",
       "      <td>64</td>\n",
       "      <td>M</td>\n",
       "      <td>ASY</td>\n",
       "      <td>143.0</td>\n",
       "      <td>306</td>\n",
       "      <td>1</td>\n",
       "      <td>ST</td>\n",
       "      <td>115</td>\n",
       "      <td>Y</td>\n",
       "      <td>1.8</td>\n",
       "      <td>Flat</td>\n",
       "      <td>1</td>\n",
       "      <td>HD</td>\n",
       "    </tr>\n",
       "    <tr>\n",
       "      <th>913</th>\n",
       "      <td>45</td>\n",
       "      <td>M</td>\n",
       "      <td>TA</td>\n",
       "      <td>110.0</td>\n",
       "      <td>264</td>\n",
       "      <td>0</td>\n",
       "      <td>Normal</td>\n",
       "      <td>132</td>\n",
       "      <td>N</td>\n",
       "      <td>1.2</td>\n",
       "      <td>Flat</td>\n",
       "      <td>1</td>\n",
       "      <td>HD</td>\n",
       "    </tr>\n",
       "    <tr>\n",
       "      <th>634</th>\n",
       "      <td>40</td>\n",
       "      <td>M</td>\n",
       "      <td>TA</td>\n",
       "      <td>140.0</td>\n",
       "      <td>199</td>\n",
       "      <td>0</td>\n",
       "      <td>Normal</td>\n",
       "      <td>178</td>\n",
       "      <td>Y</td>\n",
       "      <td>1.4</td>\n",
       "      <td>Up</td>\n",
       "      <td>0</td>\n",
       "      <td>VM</td>\n",
       "    </tr>\n",
       "    <tr>\n",
       "      <th>290</th>\n",
       "      <td>48</td>\n",
       "      <td>M</td>\n",
       "      <td>NAP</td>\n",
       "      <td>110.0</td>\n",
       "      <td>211</td>\n",
       "      <td>0</td>\n",
       "      <td>Normal</td>\n",
       "      <td>138</td>\n",
       "      <td>N</td>\n",
       "      <td>0.0</td>\n",
       "      <td>Up</td>\n",
       "      <td>0</td>\n",
       "      <td>M</td>\n",
       "    </tr>\n",
       "    <tr>\n",
       "      <th>338</th>\n",
       "      <td>63</td>\n",
       "      <td>M</td>\n",
       "      <td>ASY</td>\n",
       "      <td>140.0</td>\n",
       "      <td>305</td>\n",
       "      <td>1</td>\n",
       "      <td>LVH</td>\n",
       "      <td>149</td>\n",
       "      <td>N</td>\n",
       "      <td>2.0</td>\n",
       "      <td>Up</td>\n",
       "      <td>1</td>\n",
       "      <td>HD</td>\n",
       "    </tr>\n",
       "    <tr>\n",
       "      <th>357</th>\n",
       "      <td>53</td>\n",
       "      <td>M</td>\n",
       "      <td>ATA</td>\n",
       "      <td>120.0</td>\n",
       "      <td>305</td>\n",
       "      <td>0</td>\n",
       "      <td>Normal</td>\n",
       "      <td>95</td>\n",
       "      <td>N</td>\n",
       "      <td>0.0</td>\n",
       "      <td>Flat</td>\n",
       "      <td>1</td>\n",
       "      <td>HD</td>\n",
       "    </tr>\n",
       "    <tr>\n",
       "      <th>292</th>\n",
       "      <td>53</td>\n",
       "      <td>M</td>\n",
       "      <td>ASY</td>\n",
       "      <td>130.0</td>\n",
       "      <td>182</td>\n",
       "      <td>0</td>\n",
       "      <td>Normal</td>\n",
       "      <td>148</td>\n",
       "      <td>N</td>\n",
       "      <td>0.0</td>\n",
       "      <td>Up</td>\n",
       "      <td>0</td>\n",
       "      <td>A</td>\n",
       "    </tr>\n",
       "    <tr>\n",
       "      <th>227</th>\n",
       "      <td>38</td>\n",
       "      <td>M</td>\n",
       "      <td>ASY</td>\n",
       "      <td>92.0</td>\n",
       "      <td>117</td>\n",
       "      <td>0</td>\n",
       "      <td>Normal</td>\n",
       "      <td>134</td>\n",
       "      <td>Y</td>\n",
       "      <td>2.5</td>\n",
       "      <td>Flat</td>\n",
       "      <td>1</td>\n",
       "      <td>HD</td>\n",
       "    </tr>\n",
       "    <tr>\n",
       "      <th>591</th>\n",
       "      <td>58</td>\n",
       "      <td>M</td>\n",
       "      <td>ASY</td>\n",
       "      <td>100.0</td>\n",
       "      <td>213</td>\n",
       "      <td>0</td>\n",
       "      <td>ST</td>\n",
       "      <td>110</td>\n",
       "      <td>N</td>\n",
       "      <td>0.0</td>\n",
       "      <td>Up</td>\n",
       "      <td>0</td>\n",
       "      <td>A</td>\n",
       "    </tr>\n",
       "    <tr>\n",
       "      <th>425</th>\n",
       "      <td>60</td>\n",
       "      <td>M</td>\n",
       "      <td>ATA</td>\n",
       "      <td>160.0</td>\n",
       "      <td>267</td>\n",
       "      <td>1</td>\n",
       "      <td>ST</td>\n",
       "      <td>157</td>\n",
       "      <td>N</td>\n",
       "      <td>0.5</td>\n",
       "      <td>Flat</td>\n",
       "      <td>1</td>\n",
       "      <td>HD</td>\n",
       "    </tr>\n",
       "    <tr>\n",
       "      <th>789</th>\n",
       "      <td>34</td>\n",
       "      <td>M</td>\n",
       "      <td>TA</td>\n",
       "      <td>118.0</td>\n",
       "      <td>182</td>\n",
       "      <td>0</td>\n",
       "      <td>LVH</td>\n",
       "      <td>174</td>\n",
       "      <td>N</td>\n",
       "      <td>0.0</td>\n",
       "      <td>Up</td>\n",
       "      <td>0</td>\n",
       "      <td>VM</td>\n",
       "    </tr>\n",
       "  </tbody>\n",
       "</table>\n",
       "</div>"
      ],
      "text/plain": [
       "     age sex chestpaintype  restingbp  cholesterol  fastingbs restingecg  \\\n",
       "250   44   M           ASY      135.0          491          0     Normal   \n",
       "752   56   M           ASY      125.0          249          1        LVH   \n",
       "350   53   M           ASY      120.0          305          1     Normal   \n",
       "758   51   M            TA      125.0          213          0        LVH   \n",
       "759   54   M           ATA      192.0          283          0        LVH   \n",
       "107   34   M           ATA      150.0          214          0         ST   \n",
       "445   55   M           NAP      136.0          228          0         ST   \n",
       "141   50   M           ASY      140.0          341          0         ST   \n",
       "650   48   M           ASY      130.0          256          1        LVH   \n",
       "544   61   F           ATA      140.0          298          1     Normal   \n",
       "110   59   F           ATA      130.0          188          0     Normal   \n",
       "593   64   M           ASY      130.0          258          1        LVH   \n",
       "519   63   M           ASY       96.0          305          0         ST   \n",
       "907   44   M           ASY      120.0          169          0     Normal   \n",
       "675   57   M           NAP      150.0          126          1     Normal   \n",
       "280   60   M           NAP      120.0          246          0        LVH   \n",
       "136   43   F           ATA      120.0          215          0         ST   \n",
       "422   65   M           ASY      150.0          236          1         ST   \n",
       "208   28   M           ATA      130.0          132          0        LVH   \n",
       "442   51   M           ASY      128.0          305          1         ST   \n",
       "86    65   M           ASY      170.0          263          1     Normal   \n",
       "44    43   M           ASY      120.0          175          0     Normal   \n",
       "531   64   M           ASY      143.0          306          1         ST   \n",
       "913   45   M            TA      110.0          264          0     Normal   \n",
       "634   40   M            TA      140.0          199          0     Normal   \n",
       "290   48   M           NAP      110.0          211          0     Normal   \n",
       "338   63   M           ASY      140.0          305          1        LVH   \n",
       "357   53   M           ATA      120.0          305          0     Normal   \n",
       "292   53   M           ASY      130.0          182          0     Normal   \n",
       "227   38   M           ASY       92.0          117          0     Normal   \n",
       "591   58   M           ASY      100.0          213          0         ST   \n",
       "425   60   M           ATA      160.0          267          1         ST   \n",
       "789   34   M            TA      118.0          182          0        LVH   \n",
       "\n",
       "     maxhr exerciseangina  oldpeak st_slope  heartdisease risk_disease  \n",
       "250    135              N      0.0     Flat             1           HD  \n",
       "752    144              Y      1.2     Flat             1           HD  \n",
       "350    120              N      0.0     Flat             1           HD  \n",
       "758    125              Y      1.4       Up             0           VM  \n",
       "759    195              N      0.0       Up             1           HD  \n",
       "107    168              N      0.0       Up             0           VM  \n",
       "445    124              Y      1.6     Flat             1           HD  \n",
       "141    125              Y      2.5     Flat             1           HD  \n",
       "650    150              Y      0.0       Up             1           HD  \n",
       "544    120              Y      0.0       Up             0           VM  \n",
       "110    124              N      1.0     Flat             0           AA  \n",
       "593    130              N      0.0     Flat             1           HD  \n",
       "519    121              Y      1.0       Up             1           HD  \n",
       "907    144              Y      2.8     Down             1           HD  \n",
       "675    173              N      0.2       Up             0           VM  \n",
       "280    135              N      0.0       Up             0           VM  \n",
       "136    175              N      0.0       Up             0           VM  \n",
       "422    105              Y      0.0     Flat             1           HD  \n",
       "208    185              N      0.0       Up             0           VM  \n",
       "442    125              Y      1.2     Flat             1           HD  \n",
       "86     112              Y      2.0     Flat             1           HD  \n",
       "44     120              Y      1.0     Flat             1           HD  \n",
       "531    115              Y      1.8     Flat             1           HD  \n",
       "913    132              N      1.2     Flat             1           HD  \n",
       "634    178              Y      1.4       Up             0           VM  \n",
       "290    138              N      0.0       Up             0            M  \n",
       "338    149              N      2.0       Up             1           HD  \n",
       "357     95              N      0.0     Flat             1           HD  \n",
       "292    148              N      0.0       Up             0            A  \n",
       "227    134              Y      2.5     Flat             1           HD  \n",
       "591    110              N      0.0       Up             0            A  \n",
       "425    157              N      0.5     Flat             1           HD  \n",
       "789    174              N      0.0       Up             0           VM  "
      ]
     },
     "execution_count": 87,
     "metadata": {},
     "output_type": "execute_result"
    }
   ],
   "source": [
    "df_auto.head(33)"
   ]
  },
  {
   "cell_type": "code",
   "execution_count": 88,
   "metadata": {},
   "outputs": [
    {
     "name": "stdout",
     "output_type": "stream",
     "text": [
      "<class 'pandas.core.frame.DataFrame'>\n",
      "Index: 872 entries, 250 to 102\n",
      "Data columns (total 13 columns):\n",
      " #   Column          Non-Null Count  Dtype  \n",
      "---  ------          --------------  -----  \n",
      " 0   age             872 non-null    int64  \n",
      " 1   sex             872 non-null    object \n",
      " 2   chestpaintype   872 non-null    object \n",
      " 3   restingbp       872 non-null    float64\n",
      " 4   cholesterol     872 non-null    int64  \n",
      " 5   fastingbs       872 non-null    int64  \n",
      " 6   restingecg      872 non-null    object \n",
      " 7   maxhr           872 non-null    int64  \n",
      " 8   exerciseangina  872 non-null    object \n",
      " 9   oldpeak         872 non-null    float64\n",
      " 10  st_slope        872 non-null    object \n",
      " 11  heartdisease    872 non-null    int64  \n",
      " 12  risk_disease    872 non-null    object \n",
      "dtypes: float64(2), int64(5), object(6)\n",
      "memory usage: 95.4+ KB\n"
     ]
    }
   ],
   "source": [
    "# Проверяем тип и заполнение\n",
    "df_auto.info()"
   ]
  },
  {
   "cell_type": "code",
   "execution_count": null,
   "metadata": {},
   "outputs": [],
   "source": []
  },
  {
   "cell_type": "markdown",
   "metadata": {},
   "source": [
    "\n",
    "Задача 3.\n",
    "Выполните разметку вручную отдельного подмножества выбранного датасета с помощью выбранного вами инструмента разметки.\n",
    "\n",
    "Задача 4.\n",
    "Объедините данные, размеченные вручную, с данными, размеченными на основе правил. \n",
    "Объедините два подмножества размеченных данных в один набор данных, сохранив при этом соответствующую структуру и целостность.\n",
    "\n",
    "Задача 5.\n",
    "Обучите модель машинного обучения, используя объединенный набор размеченных данных. \n",
    "Разделите датасет на обучающий и тестовый наборы и используйте обучающий набор для обучения модели.\n",
    "\n",
    "Задача 6.\n",
    "Оценить эффективность обученной модели на тестовом датасете. Используйте подходящие метрики оценки. \n",
    "Интерпретируйте результаты и проанализируйте эффективность модели в решении задачи разметки."
   ]
  }
 ],
 "metadata": {
  "kernelspec": {
   "display_name": "Python 3",
   "language": "python",
   "name": "python3"
  },
  "language_info": {
   "codemirror_mode": {
    "name": "ipython",
    "version": 3
   },
   "file_extension": ".py",
   "mimetype": "text/x-python",
   "name": "python",
   "nbconvert_exporter": "python",
   "pygments_lexer": "ipython3",
   "version": "3.10.0rc2"
  }
 },
 "nbformat": 4,
 "nbformat_minor": 2
}
