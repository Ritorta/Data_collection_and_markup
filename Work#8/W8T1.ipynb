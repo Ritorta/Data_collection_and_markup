{
 "cells": [
  {
   "cell_type": "markdown",
   "metadata": {},
   "source": [
    "1. Скачайте датасет House Prices Kaggle со страницы конкурса (https://www.kaggle.com/competitions/house-prices-advanced-regression-techniques/data) и сохраните его в том же каталоге, что и ваш скрипт или блокнот Python."
   ]
  },
  {
   "cell_type": "code",
   "execution_count": 1,
   "metadata": {},
   "outputs": [],
   "source": [
    "# Импортируем библиотеки для скачивания с сайта Kaggle\n",
    "from pathlib import Path\n",
    "import opendatasets as od"
   ]
  },
  {
   "cell_type": "code",
   "execution_count": 3,
   "metadata": {},
   "outputs": [
    {
     "name": "stdout",
     "output_type": "stream",
     "text": [
      "Please provide your Kaggle credentials to download this dataset. Learn more: http://bit.ly/kaggle-creds\n",
      "Your Kaggle username:Your Kaggle Key:Downloading house-prices-advanced-regression-techniques.zip to .\\house-prices-advanced-regression-techniques\n"
     ]
    },
    {
     "name": "stderr",
     "output_type": "stream",
     "text": [
      "100%|██████████| 199k/199k [00:00<00:00, 304kB/s]"
     ]
    },
    {
     "name": "stdout",
     "output_type": "stream",
     "text": [
      "\n",
      "Extracting archive .\\house-prices-advanced-regression-techniques/house-prices-advanced-regression-techniques.zip to .\\house-prices-advanced-regression-techniques\n"
     ]
    },
    {
     "name": "stderr",
     "output_type": "stream",
     "text": [
      "\n"
     ]
    }
   ],
   "source": [
    "# Скачиваем дата сет с сайта Kaggle\n",
    "dataset_path = Path('house-prices')\n",
    "if not dataset_path.is_file():\n",
    "    od.download('https://www.kaggle.com/competitions/house-prices-advanced-regression-techniques/data')"
   ]
  },
  {
   "cell_type": "markdown",
   "metadata": {},
   "source": [
    "2. Загрузите датасет в pandas DataFrame под названием df."
   ]
  },
  {
   "cell_type": "code",
   "execution_count": 2,
   "metadata": {},
   "outputs": [],
   "source": [
    "# Импортируем библиотеки для работы с датасетом\n",
    "import pandas as pd\n",
    "import numpy as np"
   ]
  },
  {
   "cell_type": "code",
   "execution_count": 17,
   "metadata": {},
   "outputs": [],
   "source": [
    "# Добавляем файл датасет в DataFrame pandas\n",
    "df = pd.read_csv('C:\\\\Users\\\\Esdesu\\\\Desktop\\\\JreJre\\\\Сбор и разметка данных\\\\HomeWork\\\\Work#8\\\\house-prices-advanced-regression-techniques\\\\train.csv')"
   ]
  },
  {
   "cell_type": "markdown",
   "metadata": {},
   "source": [
    "3. Выполните предварительную обработку данных, выполнив следующие шаги: \n",
    "- a. Определите и обработайте отсутствующие значения в датасете. Определите, в каких столбцах есть отсутствующие значения, и решите, как их обработать (например, заполнить средним, медианой или модой, или отбросить столбцы/строки с существенными отсутствующими значениями). \n",
    "- b. Проверьте и обработайте любые дублирующиеся строки в датасете. \n",
    "- c. Проанализируйте типы данных в каждом столбце и при необходимости преобразуйте их (например, из объектных в числовые типы)."
   ]
  },
  {
   "cell_type": "code",
   "execution_count": 20,
   "metadata": {},
   "outputs": [
    {
     "data": {
      "text/html": [
       "<div>\n",
       "<style scoped>\n",
       "    .dataframe tbody tr th:only-of-type {\n",
       "        vertical-align: middle;\n",
       "    }\n",
       "\n",
       "    .dataframe tbody tr th {\n",
       "        vertical-align: top;\n",
       "    }\n",
       "\n",
       "    .dataframe thead th {\n",
       "        text-align: right;\n",
       "    }\n",
       "</style>\n",
       "<table border=\"1\" class=\"dataframe\">\n",
       "  <thead>\n",
       "    <tr style=\"text-align: right;\">\n",
       "      <th></th>\n",
       "      <th>Id</th>\n",
       "      <th>MSSubClass</th>\n",
       "      <th>MSZoning</th>\n",
       "      <th>LotFrontage</th>\n",
       "      <th>LotArea</th>\n",
       "      <th>Street</th>\n",
       "      <th>Alley</th>\n",
       "      <th>LotShape</th>\n",
       "      <th>LandContour</th>\n",
       "      <th>Utilities</th>\n",
       "      <th>...</th>\n",
       "      <th>PoolArea</th>\n",
       "      <th>PoolQC</th>\n",
       "      <th>Fence</th>\n",
       "      <th>MiscFeature</th>\n",
       "      <th>MiscVal</th>\n",
       "      <th>MoSold</th>\n",
       "      <th>YrSold</th>\n",
       "      <th>SaleType</th>\n",
       "      <th>SaleCondition</th>\n",
       "      <th>SalePrice</th>\n",
       "    </tr>\n",
       "  </thead>\n",
       "  <tbody>\n",
       "    <tr>\n",
       "      <th>0</th>\n",
       "      <td>1</td>\n",
       "      <td>60</td>\n",
       "      <td>RL</td>\n",
       "      <td>65.0</td>\n",
       "      <td>8450</td>\n",
       "      <td>Pave</td>\n",
       "      <td>NaN</td>\n",
       "      <td>Reg</td>\n",
       "      <td>Lvl</td>\n",
       "      <td>AllPub</td>\n",
       "      <td>...</td>\n",
       "      <td>0</td>\n",
       "      <td>NaN</td>\n",
       "      <td>NaN</td>\n",
       "      <td>NaN</td>\n",
       "      <td>0</td>\n",
       "      <td>2</td>\n",
       "      <td>2008</td>\n",
       "      <td>WD</td>\n",
       "      <td>Normal</td>\n",
       "      <td>208500</td>\n",
       "    </tr>\n",
       "    <tr>\n",
       "      <th>1</th>\n",
       "      <td>2</td>\n",
       "      <td>20</td>\n",
       "      <td>RL</td>\n",
       "      <td>80.0</td>\n",
       "      <td>9600</td>\n",
       "      <td>Pave</td>\n",
       "      <td>NaN</td>\n",
       "      <td>Reg</td>\n",
       "      <td>Lvl</td>\n",
       "      <td>AllPub</td>\n",
       "      <td>...</td>\n",
       "      <td>0</td>\n",
       "      <td>NaN</td>\n",
       "      <td>NaN</td>\n",
       "      <td>NaN</td>\n",
       "      <td>0</td>\n",
       "      <td>5</td>\n",
       "      <td>2007</td>\n",
       "      <td>WD</td>\n",
       "      <td>Normal</td>\n",
       "      <td>181500</td>\n",
       "    </tr>\n",
       "    <tr>\n",
       "      <th>2</th>\n",
       "      <td>3</td>\n",
       "      <td>60</td>\n",
       "      <td>RL</td>\n",
       "      <td>68.0</td>\n",
       "      <td>11250</td>\n",
       "      <td>Pave</td>\n",
       "      <td>NaN</td>\n",
       "      <td>IR1</td>\n",
       "      <td>Lvl</td>\n",
       "      <td>AllPub</td>\n",
       "      <td>...</td>\n",
       "      <td>0</td>\n",
       "      <td>NaN</td>\n",
       "      <td>NaN</td>\n",
       "      <td>NaN</td>\n",
       "      <td>0</td>\n",
       "      <td>9</td>\n",
       "      <td>2008</td>\n",
       "      <td>WD</td>\n",
       "      <td>Normal</td>\n",
       "      <td>223500</td>\n",
       "    </tr>\n",
       "    <tr>\n",
       "      <th>3</th>\n",
       "      <td>4</td>\n",
       "      <td>70</td>\n",
       "      <td>RL</td>\n",
       "      <td>60.0</td>\n",
       "      <td>9550</td>\n",
       "      <td>Pave</td>\n",
       "      <td>NaN</td>\n",
       "      <td>IR1</td>\n",
       "      <td>Lvl</td>\n",
       "      <td>AllPub</td>\n",
       "      <td>...</td>\n",
       "      <td>0</td>\n",
       "      <td>NaN</td>\n",
       "      <td>NaN</td>\n",
       "      <td>NaN</td>\n",
       "      <td>0</td>\n",
       "      <td>2</td>\n",
       "      <td>2006</td>\n",
       "      <td>WD</td>\n",
       "      <td>Abnorml</td>\n",
       "      <td>140000</td>\n",
       "    </tr>\n",
       "    <tr>\n",
       "      <th>4</th>\n",
       "      <td>5</td>\n",
       "      <td>60</td>\n",
       "      <td>RL</td>\n",
       "      <td>84.0</td>\n",
       "      <td>14260</td>\n",
       "      <td>Pave</td>\n",
       "      <td>NaN</td>\n",
       "      <td>IR1</td>\n",
       "      <td>Lvl</td>\n",
       "      <td>AllPub</td>\n",
       "      <td>...</td>\n",
       "      <td>0</td>\n",
       "      <td>NaN</td>\n",
       "      <td>NaN</td>\n",
       "      <td>NaN</td>\n",
       "      <td>0</td>\n",
       "      <td>12</td>\n",
       "      <td>2008</td>\n",
       "      <td>WD</td>\n",
       "      <td>Normal</td>\n",
       "      <td>250000</td>\n",
       "    </tr>\n",
       "  </tbody>\n",
       "</table>\n",
       "<p>5 rows × 81 columns</p>\n",
       "</div>"
      ],
      "text/plain": [
       "   Id  MSSubClass MSZoning  LotFrontage  LotArea Street Alley LotShape  \\\n",
       "0   1          60       RL         65.0     8450   Pave   NaN      Reg   \n",
       "1   2          20       RL         80.0     9600   Pave   NaN      Reg   \n",
       "2   3          60       RL         68.0    11250   Pave   NaN      IR1   \n",
       "3   4          70       RL         60.0     9550   Pave   NaN      IR1   \n",
       "4   5          60       RL         84.0    14260   Pave   NaN      IR1   \n",
       "\n",
       "  LandContour Utilities  ... PoolArea PoolQC Fence MiscFeature MiscVal MoSold  \\\n",
       "0         Lvl    AllPub  ...        0    NaN   NaN         NaN       0      2   \n",
       "1         Lvl    AllPub  ...        0    NaN   NaN         NaN       0      5   \n",
       "2         Lvl    AllPub  ...        0    NaN   NaN         NaN       0      9   \n",
       "3         Lvl    AllPub  ...        0    NaN   NaN         NaN       0      2   \n",
       "4         Lvl    AllPub  ...        0    NaN   NaN         NaN       0     12   \n",
       "\n",
       "  YrSold  SaleType  SaleCondition  SalePrice  \n",
       "0   2008        WD         Normal     208500  \n",
       "1   2007        WD         Normal     181500  \n",
       "2   2008        WD         Normal     223500  \n",
       "3   2006        WD        Abnorml     140000  \n",
       "4   2008        WD         Normal     250000  \n",
       "\n",
       "[5 rows x 81 columns]"
      ]
     },
     "execution_count": 20,
     "metadata": {},
     "output_type": "execute_result"
    }
   ],
   "source": [
    "# Получаем первичную информацию о датасете\n",
    "df.head()"
   ]
  },
  {
   "cell_type": "code",
   "execution_count": 21,
   "metadata": {},
   "outputs": [
    {
     "name": "stdout",
     "output_type": "stream",
     "text": [
      "<class 'pandas.core.frame.DataFrame'>\n",
      "RangeIndex: 1460 entries, 0 to 1459\n",
      "Data columns (total 81 columns):\n",
      " #   Column         Non-Null Count  Dtype  \n",
      "---  ------         --------------  -----  \n",
      " 0   Id             1460 non-null   int64  \n",
      " 1   MSSubClass     1460 non-null   int64  \n",
      " 2   MSZoning       1460 non-null   object \n",
      " 3   LotFrontage    1201 non-null   float64\n",
      " 4   LotArea        1460 non-null   int64  \n",
      " 5   Street         1460 non-null   object \n",
      " 6   Alley          91 non-null     object \n",
      " 7   LotShape       1460 non-null   object \n",
      " 8   LandContour    1460 non-null   object \n",
      " 9   Utilities      1460 non-null   object \n",
      " 10  LotConfig      1460 non-null   object \n",
      " 11  LandSlope      1460 non-null   object \n",
      " 12  Neighborhood   1460 non-null   object \n",
      " 13  Condition1     1460 non-null   object \n",
      " 14  Condition2     1460 non-null   object \n",
      " 15  BldgType       1460 non-null   object \n",
      " 16  HouseStyle     1460 non-null   object \n",
      " 17  OverallQual    1460 non-null   int64  \n",
      " 18  OverallCond    1460 non-null   int64  \n",
      " 19  YearBuilt      1460 non-null   int64  \n",
      " 20  YearRemodAdd   1460 non-null   int64  \n",
      " 21  RoofStyle      1460 non-null   object \n",
      " 22  RoofMatl       1460 non-null   object \n",
      " 23  Exterior1st    1460 non-null   object \n",
      " 24  Exterior2nd    1460 non-null   object \n",
      " 25  MasVnrType     588 non-null    object \n",
      " 26  MasVnrArea     1452 non-null   float64\n",
      " 27  ExterQual      1460 non-null   object \n",
      " 28  ExterCond      1460 non-null   object \n",
      " 29  Foundation     1460 non-null   object \n",
      " 30  BsmtQual       1423 non-null   object \n",
      " 31  BsmtCond       1423 non-null   object \n",
      " 32  BsmtExposure   1422 non-null   object \n",
      " 33  BsmtFinType1   1423 non-null   object \n",
      " 34  BsmtFinSF1     1460 non-null   int64  \n",
      " 35  BsmtFinType2   1422 non-null   object \n",
      " 36  BsmtFinSF2     1460 non-null   int64  \n",
      " 37  BsmtUnfSF      1460 non-null   int64  \n",
      " 38  TotalBsmtSF    1460 non-null   int64  \n",
      " 39  Heating        1460 non-null   object \n",
      " 40  HeatingQC      1460 non-null   object \n",
      " 41  CentralAir     1460 non-null   object \n",
      " 42  Electrical     1459 non-null   object \n",
      " 43  1stFlrSF       1460 non-null   int64  \n",
      " 44  2ndFlrSF       1460 non-null   int64  \n",
      " 45  LowQualFinSF   1460 non-null   int64  \n",
      " 46  GrLivArea      1460 non-null   int64  \n",
      " 47  BsmtFullBath   1460 non-null   int64  \n",
      " 48  BsmtHalfBath   1460 non-null   int64  \n",
      " 49  FullBath       1460 non-null   int64  \n",
      " 50  HalfBath       1460 non-null   int64  \n",
      " 51  BedroomAbvGr   1460 non-null   int64  \n",
      " 52  KitchenAbvGr   1460 non-null   int64  \n",
      " 53  KitchenQual    1460 non-null   object \n",
      " 54  TotRmsAbvGrd   1460 non-null   int64  \n",
      " 55  Functional     1460 non-null   object \n",
      " 56  Fireplaces     1460 non-null   int64  \n",
      " 57  FireplaceQu    770 non-null    object \n",
      " 58  GarageType     1379 non-null   object \n",
      " 59  GarageYrBlt    1379 non-null   float64\n",
      " 60  GarageFinish   1379 non-null   object \n",
      " 61  GarageCars     1460 non-null   int64  \n",
      " 62  GarageArea     1460 non-null   int64  \n",
      " 63  GarageQual     1379 non-null   object \n",
      " 64  GarageCond     1379 non-null   object \n",
      " 65  PavedDrive     1460 non-null   object \n",
      " 66  WoodDeckSF     1460 non-null   int64  \n",
      " 67  OpenPorchSF    1460 non-null   int64  \n",
      " 68  EnclosedPorch  1460 non-null   int64  \n",
      " 69  3SsnPorch      1460 non-null   int64  \n",
      " 70  ScreenPorch    1460 non-null   int64  \n",
      " 71  PoolArea       1460 non-null   int64  \n",
      " 72  PoolQC         7 non-null      object \n",
      " 73  Fence          281 non-null    object \n",
      " 74  MiscFeature    54 non-null     object \n",
      " 75  MiscVal        1460 non-null   int64  \n",
      " 76  MoSold         1460 non-null   int64  \n",
      " 77  YrSold         1460 non-null   int64  \n",
      " 78  SaleType       1460 non-null   object \n",
      " 79  SaleCondition  1460 non-null   object \n",
      " 80  SalePrice      1460 non-null   int64  \n",
      "dtypes: float64(3), int64(35), object(43)\n",
      "memory usage: 924.0+ KB\n"
     ]
    }
   ],
   "source": [
    "# Получаем представление о данных\n",
    "df.info()"
   ]
  },
  {
   "cell_type": "code",
   "execution_count": 22,
   "metadata": {},
   "outputs": [
    {
     "data": {
      "text/plain": [
       "Id                 0\n",
       "MSSubClass         0\n",
       "MSZoning           0\n",
       "LotFrontage      259\n",
       "LotArea            0\n",
       "                ... \n",
       "MoSold             0\n",
       "YrSold             0\n",
       "SaleType           0\n",
       "SaleCondition      0\n",
       "SalePrice          0\n",
       "Length: 81, dtype: int64"
      ]
     },
     "execution_count": 22,
     "metadata": {},
     "output_type": "execute_result"
    }
   ],
   "source": [
    "# Ещё один метод проверки данных\n",
    "df.isnull().sum()"
   ]
  },
  {
   "cell_type": "markdown",
   "metadata": {},
   "source": [
    "Столбы с отсуствующими значениями:\n",
    "    LotFrontage: Linear feet of street connected to property\n",
    "    Alley: Type of alley access\n",
    "    MasVnrType: Masonry veneer type\n",
    "    MasVnrArea: Masonry veneer area in square feet\n",
    "    BsmtQual: Height of the basement\n",
    "    BsmtCond: General condition of the basement\n",
    "    BsmtExposure: Walkout or garden level basement walls\n",
    "    BsmtFinType1: Quality of basement finished area\n",
    "    BsmtFinType2: Quality of second finished area \n",
    "    Electrical: Electrical system\n",
    "    FireplaceQu: Fireplace quality\n",
    "    GarageType: Garage location\n",
    "    GarageYrBlt: Year garage was built\n",
    "    GarageFinish: Interior finish of the garage\n",
    "    GarageQual: Garage quality\n",
    "    GarageCond: Garage condition\n",
    "    PoolQC: Pool quality\n",
    "    Fence: Fence quality\n",
    "    MiscFeature: Miscellaneous feature not covered in other categories"
   ]
  },
  {
   "cell_type": "code",
   "execution_count": 18,
   "metadata": {},
   "outputs": [
    {
     "name": "stdout",
     "output_type": "stream",
     "text": [
      "<class 'pandas.core.series.Series'>\n",
      "RangeIndex: 1460 entries, 0 to 1459\n",
      "Series name: LotFrontage\n",
      "Non-Null Count  Dtype  \n",
      "--------------  -----  \n",
      "1201 non-null   float64\n",
      "dtypes: float64(1)\n",
      "memory usage: 11.5 KB\n"
     ]
    },
    {
     "data": {
      "text/plain": [
       "array([ 65.,  80.,  68.,  60.,  84.,  85.,  75.,  nan,  51.,  50.,  70.,\n",
       "        91.,  72.,  66., 101.,  57.,  44., 110.,  98.,  47., 108., 112.,\n",
       "        74., 115.,  61.,  48.,  33.,  52., 100.,  24.,  89.,  63.,  76.,\n",
       "        81.,  95.,  69.,  21.,  32.,  78., 121., 122.,  40., 105.,  73.,\n",
       "        77.,  64.,  94.,  34.,  90.,  55.,  88.,  82.,  71., 120., 107.,\n",
       "        92., 134.,  62.,  86., 141.,  97.,  54.,  41.,  79., 174.,  99.,\n",
       "        67.,  83.,  43., 103.,  93.,  30., 129., 140.,  35.,  37., 118.,\n",
       "        87., 116., 150., 111.,  49.,  96.,  59.,  36.,  56., 102.,  58.,\n",
       "        38., 109., 130.,  53., 137.,  45., 106., 104.,  42.,  39., 144.,\n",
       "       114., 128., 149., 313., 168., 182., 138., 160., 152., 124., 153.,\n",
       "        46.])"
      ]
     },
     "execution_count": 18,
     "metadata": {},
     "output_type": "execute_result"
    }
   ],
   "source": [
    "# Обработка для столбца LotFrontage: Linear feet of street connected to property(Фасад участка: Длина улицы в линейных футах, соединенной с участком):\n",
    "df['LotFrontage'].info() # Определяем тип данных, количество значений\n",
    "df['LotFrontage'].unique() # Поиск уникальных значений"
   ]
  },
  {
   "cell_type": "code",
   "execution_count": 21,
   "metadata": {},
   "outputs": [
    {
     "data": {
      "text/plain": [
       "array([ 65.        ,  80.        ,  68.        ,  60.        ,\n",
       "        84.        ,  85.        ,  75.        ,  70.04995837,\n",
       "        51.        ,  50.        ,  70.        ,  91.        ,\n",
       "        72.        ,  66.        , 101.        ,  57.        ,\n",
       "        44.        , 110.        ,  98.        ,  47.        ,\n",
       "       108.        , 112.        ,  74.        , 115.        ,\n",
       "        61.        ,  48.        ,  33.        ,  52.        ,\n",
       "       100.        ,  24.        ,  89.        ,  63.        ,\n",
       "        76.        ,  81.        ,  95.        ,  69.        ,\n",
       "        21.        ,  32.        ,  78.        , 121.        ,\n",
       "       122.        ,  40.        , 105.        ,  73.        ,\n",
       "        77.        ,  64.        ,  94.        ,  34.        ,\n",
       "        90.        ,  55.        ,  88.        ,  82.        ,\n",
       "        71.        , 120.        , 107.        ,  92.        ,\n",
       "       134.        ,  62.        ,  86.        , 141.        ,\n",
       "        97.        ,  54.        ,  41.        ,  79.        ,\n",
       "       174.        ,  99.        ,  67.        ,  83.        ,\n",
       "        43.        , 103.        ,  93.        ,  30.        ,\n",
       "       129.        , 140.        ,  35.        ,  37.        ,\n",
       "       118.        ,  87.        , 116.        , 150.        ,\n",
       "       111.        ,  49.        ,  96.        ,  59.        ,\n",
       "        36.        ,  56.        , 102.        ,  58.        ,\n",
       "        38.        , 109.        , 130.        ,  53.        ,\n",
       "       137.        ,  45.        , 106.        , 104.        ,\n",
       "        42.        ,  39.        , 144.        , 114.        ,\n",
       "       128.        , 149.        , 313.        , 168.        ,\n",
       "       182.        , 138.        , 160.        , 152.        ,\n",
       "       124.        , 153.        ,  46.        ])"
      ]
     },
     "execution_count": 21,
     "metadata": {},
     "output_type": "execute_result"
    }
   ],
   "source": [
    "# Заполняем пустые значения средними значениями\n",
    "df['LotFrontage'] = df['LotFrontage'].fillna(df['LotFrontage'].mean())\n",
    "# Проверяем\n",
    "df['LotFrontage'].unique()"
   ]
  },
  {
   "cell_type": "code",
   "execution_count": 22,
   "metadata": {},
   "outputs": [
    {
     "data": {
      "text/plain": [
       "array([ 65,  80,  68,  60,  84,  85,  75,  70,  51,  50,  91,  72,  66,\n",
       "       101,  57,  44, 110,  98,  47, 108, 112,  74, 115,  61,  48,  33,\n",
       "        52, 100,  24,  89,  63,  76,  81,  95,  69,  21,  32,  78, 121,\n",
       "       122,  40, 105,  73,  77,  64,  94,  34,  90,  55,  88,  82,  71,\n",
       "       120, 107,  92, 134,  62,  86, 141,  97,  54,  41,  79, 174,  99,\n",
       "        67,  83,  43, 103,  93,  30, 129, 140,  35,  37, 118,  87, 116,\n",
       "       150, 111,  49,  96,  59,  36,  56, 102,  58,  38, 109, 130,  53,\n",
       "       137,  45, 106, 104,  42,  39, 144, 114, 128, 149, 313, 168, 182,\n",
       "       138, 160, 152, 124, 153,  46])"
      ]
     },
     "execution_count": 22,
     "metadata": {},
     "output_type": "execute_result"
    }
   ],
   "source": [
    "# По начальному состоянию видим, что здесь не используются значения float в следствии чего переводит в int\n",
    "# Сначала округлим значения на всякий случай\n",
    "df['LotFrontage'] = df['LotFrontage'].round()\n",
    "# Затем преобразуем округленные значения в int\n",
    "df['LotFrontage'] = df['LotFrontage'].astype(int)\n",
    "# Проверяем\n",
    "df['LotFrontage'].unique()"
   ]
  },
  {
   "cell_type": "code",
   "execution_count": 49,
   "metadata": {},
   "outputs": [
    {
     "name": "stdout",
     "output_type": "stream",
     "text": [
      "<class 'pandas.core.series.Series'>\n",
      "RangeIndex: 1460 entries, 0 to 1459\n",
      "Series name: Alley\n",
      "Non-Null Count  Dtype \n",
      "--------------  ----- \n",
      "91 non-null     object\n",
      "dtypes: object(1)\n",
      "memory usage: 11.5+ KB\n"
     ]
    },
    {
     "data": {
      "text/plain": [
       "array([nan, 'Grvl', 'Pave'], dtype=object)"
      ]
     },
     "execution_count": 49,
     "metadata": {},
     "output_type": "execute_result"
    }
   ],
   "source": [
    "# Обработка для столбца Alley: Type of alley access(Аллея: Тип подъездной аллеи):\n",
    "df['Alley'].info() # Определяем тип данных, количество значений\n",
    "df['Alley'].unique() # Поиск уникальных значений"
   ]
  },
  {
   "cell_type": "code",
   "execution_count": 50,
   "metadata": {},
   "outputs": [
    {
     "data": {
      "text/plain": [
       "array(['Grvl', 'Pave'], dtype=object)"
      ]
     },
     "execution_count": 50,
     "metadata": {},
     "output_type": "execute_result"
    }
   ],
   "source": [
    "# Заполняем пустые значения на моду\n",
    "df['Alley'] = df['Alley'].fillna(df['Alley'].mode().iloc[0])\n",
    "# Проверяем\n",
    "df['Alley'].unique()"
   ]
  },
  {
   "cell_type": "code",
   "execution_count": 24,
   "metadata": {},
   "outputs": [
    {
     "name": "stdout",
     "output_type": "stream",
     "text": [
      "<class 'pandas.core.series.Series'>\n",
      "RangeIndex: 1460 entries, 0 to 1459\n",
      "Series name: MasVnrType\n",
      "Non-Null Count  Dtype \n",
      "--------------  ----- \n",
      "588 non-null    object\n",
      "dtypes: object(1)\n",
      "memory usage: 11.5+ KB\n"
     ]
    },
    {
     "data": {
      "text/plain": [
       "array(['BrkFace', nan, 'Stone', 'BrkCmn'], dtype=object)"
      ]
     },
     "execution_count": 24,
     "metadata": {},
     "output_type": "execute_result"
    }
   ],
   "source": [
    "# Обработка для столбца MasVnrType: Masonry veneer type(Тип кладки: Тип облицовочного кирпича):\n",
    "df['MasVnrType'].info() # Определяем тип данных, количество значений\n",
    "df['MasVnrType'].unique() # Поиск уникальных значений"
   ]
  },
  {
   "cell_type": "code",
   "execution_count": 31,
   "metadata": {},
   "outputs": [
    {
     "data": {
      "text/plain": [
       "array(['BrkFace', 'NoType', 'Stone', 'BrkCmn'], dtype=object)"
      ]
     },
     "execution_count": 31,
     "metadata": {},
     "output_type": "execute_result"
    }
   ],
   "source": [
    "# Заполним пустые ячейки значением \"NoType\"\n",
    "df['MasVnrType'] = df['MasVnrType'].fillna('NoType')\n",
    "# Проверяем\n",
    "df['MasVnrType'].unique()"
   ]
  },
  {
   "cell_type": "code",
   "execution_count": 16,
   "metadata": {},
   "outputs": [
    {
     "name": "stdout",
     "output_type": "stream",
     "text": [
      "<class 'pandas.core.series.Series'>\n",
      "RangeIndex: 1460 entries, 0 to 1459\n",
      "Series name: MasVnrArea\n",
      "Non-Null Count  Dtype  \n",
      "--------------  -----  \n",
      "1452 non-null   float64\n",
      "dtypes: float64(1)\n",
      "memory usage: 11.5 KB\n"
     ]
    },
    {
     "data": {
      "text/plain": [
       "array([1.960e+02, 0.000e+00, 1.620e+02, 3.500e+02, 1.860e+02, 2.400e+02,\n",
       "       2.860e+02, 3.060e+02, 2.120e+02, 1.800e+02, 3.800e+02, 2.810e+02,\n",
       "       6.400e+02, 2.000e+02, 2.460e+02, 1.320e+02, 6.500e+02, 1.010e+02,\n",
       "       4.120e+02, 2.720e+02, 4.560e+02, 1.031e+03, 1.780e+02, 5.730e+02,\n",
       "       3.440e+02, 2.870e+02, 1.670e+02, 1.115e+03, 4.000e+01, 1.040e+02,\n",
       "       5.760e+02, 4.430e+02, 4.680e+02, 6.600e+01, 2.200e+01, 2.840e+02,\n",
       "       7.600e+01, 2.030e+02, 6.800e+01, 1.830e+02, 4.800e+01, 2.800e+01,\n",
       "       3.360e+02, 6.000e+02, 7.680e+02, 4.800e+02, 2.200e+02, 1.840e+02,\n",
       "       1.129e+03, 1.160e+02, 1.350e+02, 2.660e+02, 8.500e+01, 3.090e+02,\n",
       "       1.360e+02, 2.880e+02, 7.000e+01, 3.200e+02, 5.000e+01, 1.200e+02,\n",
       "       4.360e+02, 2.520e+02, 8.400e+01, 6.640e+02, 2.260e+02, 3.000e+02,\n",
       "       6.530e+02, 1.120e+02, 4.910e+02, 2.680e+02, 7.480e+02, 9.800e+01,\n",
       "       2.750e+02, 1.380e+02, 2.050e+02, 2.620e+02, 1.280e+02, 2.600e+02,\n",
       "       1.530e+02, 6.400e+01, 3.120e+02, 1.600e+01, 9.220e+02, 1.420e+02,\n",
       "       2.900e+02, 1.270e+02, 5.060e+02, 2.970e+02,       nan, 6.040e+02,\n",
       "       2.540e+02, 3.600e+01, 1.020e+02, 4.720e+02, 4.810e+02, 1.080e+02,\n",
       "       3.020e+02, 1.720e+02, 3.990e+02, 2.700e+02, 4.600e+01, 2.100e+02,\n",
       "       1.740e+02, 3.480e+02, 3.150e+02, 2.990e+02, 3.400e+02, 1.660e+02,\n",
       "       7.200e+01, 3.100e+01, 3.400e+01, 2.380e+02, 1.600e+03, 3.650e+02,\n",
       "       5.600e+01, 1.500e+02, 2.780e+02, 2.560e+02, 2.250e+02, 3.700e+02,\n",
       "       3.880e+02, 1.750e+02, 2.960e+02, 1.460e+02, 1.130e+02, 1.760e+02,\n",
       "       6.160e+02, 3.000e+01, 1.060e+02, 8.700e+02, 3.620e+02, 5.300e+02,\n",
       "       5.000e+02, 5.100e+02, 2.470e+02, 3.050e+02, 2.550e+02, 1.250e+02,\n",
       "       1.000e+02, 4.320e+02, 1.260e+02, 4.730e+02, 7.400e+01, 1.450e+02,\n",
       "       2.320e+02, 3.760e+02, 4.200e+01, 1.610e+02, 1.100e+02, 1.800e+01,\n",
       "       2.240e+02, 2.480e+02, 8.000e+01, 3.040e+02, 2.150e+02, 7.720e+02,\n",
       "       4.350e+02, 3.780e+02, 5.620e+02, 1.680e+02, 8.900e+01, 2.850e+02,\n",
       "       3.600e+02, 9.400e+01, 3.330e+02, 9.210e+02, 7.620e+02, 5.940e+02,\n",
       "       2.190e+02, 1.880e+02, 4.790e+02, 5.840e+02, 1.820e+02, 2.500e+02,\n",
       "       2.920e+02, 2.450e+02, 2.070e+02, 8.200e+01, 9.700e+01, 3.350e+02,\n",
       "       2.080e+02, 4.200e+02, 1.700e+02, 4.590e+02, 2.800e+02, 9.900e+01,\n",
       "       1.920e+02, 2.040e+02, 2.330e+02, 1.560e+02, 4.520e+02, 5.130e+02,\n",
       "       2.610e+02, 1.640e+02, 2.590e+02, 2.090e+02, 2.630e+02, 2.160e+02,\n",
       "       3.510e+02, 6.600e+02, 3.810e+02, 5.400e+01, 5.280e+02, 2.580e+02,\n",
       "       4.640e+02, 5.700e+01, 1.470e+02, 1.170e+03, 2.930e+02, 6.300e+02,\n",
       "       4.660e+02, 1.090e+02, 4.100e+01, 1.600e+02, 2.890e+02, 6.510e+02,\n",
       "       1.690e+02, 9.500e+01, 4.420e+02, 2.020e+02, 3.380e+02, 8.940e+02,\n",
       "       3.280e+02, 6.730e+02, 6.030e+02, 1.000e+00, 3.750e+02, 9.000e+01,\n",
       "       3.800e+01, 1.570e+02, 1.100e+01, 1.400e+02, 1.300e+02, 1.480e+02,\n",
       "       8.600e+02, 4.240e+02, 1.047e+03, 2.430e+02, 8.160e+02, 3.870e+02,\n",
       "       2.230e+02, 1.580e+02, 1.370e+02, 1.150e+02, 1.890e+02, 2.740e+02,\n",
       "       1.170e+02, 6.000e+01, 1.220e+02, 9.200e+01, 4.150e+02, 7.600e+02,\n",
       "       2.700e+01, 7.500e+01, 3.610e+02, 1.050e+02, 3.420e+02, 2.980e+02,\n",
       "       5.410e+02, 2.360e+02, 1.440e+02, 4.230e+02, 4.400e+01, 1.510e+02,\n",
       "       9.750e+02, 4.500e+02, 2.300e+02, 5.710e+02, 2.400e+01, 5.300e+01,\n",
       "       2.060e+02, 1.400e+01, 3.240e+02, 2.950e+02, 3.960e+02, 6.700e+01,\n",
       "       1.540e+02, 4.250e+02, 4.500e+01, 1.378e+03, 3.370e+02, 1.490e+02,\n",
       "       1.430e+02, 5.100e+01, 1.710e+02, 2.340e+02, 6.300e+01, 7.660e+02,\n",
       "       3.200e+01, 8.100e+01, 1.630e+02, 5.540e+02, 2.180e+02, 6.320e+02,\n",
       "       1.140e+02, 5.670e+02, 3.590e+02, 4.510e+02, 6.210e+02, 7.880e+02,\n",
       "       8.600e+01, 7.960e+02, 3.910e+02, 2.280e+02, 8.800e+01, 1.650e+02,\n",
       "       4.280e+02, 4.100e+02, 5.640e+02, 3.680e+02, 3.180e+02, 5.790e+02,\n",
       "       6.500e+01, 7.050e+02, 4.080e+02, 2.440e+02, 1.230e+02, 3.660e+02,\n",
       "       7.310e+02, 4.480e+02, 2.940e+02, 3.100e+02, 2.370e+02, 4.260e+02,\n",
       "       9.600e+01, 4.380e+02, 1.940e+02, 1.190e+02])"
      ]
     },
     "execution_count": 16,
     "metadata": {},
     "output_type": "execute_result"
    }
   ],
   "source": [
    "# Обработка для столбца MasVnrArea: Masonry veneer area in square feet(Площадь кладки: Площадь облицовки в квадратных футах):\n",
    "df['MasVnrArea'].info() # Определяем тип данных, количество значений\n",
    "df['MasVnrArea'].unique() # Поиск уникальных значений"
   ]
  },
  {
   "cell_type": "code",
   "execution_count": 23,
   "metadata": {},
   "outputs": [
    {
     "data": {
      "text/plain": [
       "array([1.96000000e+02, 0.00000000e+00, 1.62000000e+02, 3.50000000e+02,\n",
       "       1.86000000e+02, 2.40000000e+02, 2.86000000e+02, 3.06000000e+02,\n",
       "       2.12000000e+02, 1.80000000e+02, 3.80000000e+02, 2.81000000e+02,\n",
       "       6.40000000e+02, 2.00000000e+02, 2.46000000e+02, 1.32000000e+02,\n",
       "       6.50000000e+02, 1.01000000e+02, 4.12000000e+02, 2.72000000e+02,\n",
       "       4.56000000e+02, 1.03100000e+03, 1.78000000e+02, 5.73000000e+02,\n",
       "       3.44000000e+02, 2.87000000e+02, 1.67000000e+02, 1.11500000e+03,\n",
       "       4.00000000e+01, 1.04000000e+02, 5.76000000e+02, 4.43000000e+02,\n",
       "       4.68000000e+02, 6.60000000e+01, 2.20000000e+01, 2.84000000e+02,\n",
       "       7.60000000e+01, 2.03000000e+02, 6.80000000e+01, 1.83000000e+02,\n",
       "       4.80000000e+01, 2.80000000e+01, 3.36000000e+02, 6.00000000e+02,\n",
       "       7.68000000e+02, 4.80000000e+02, 2.20000000e+02, 1.84000000e+02,\n",
       "       1.12900000e+03, 1.16000000e+02, 1.35000000e+02, 2.66000000e+02,\n",
       "       8.50000000e+01, 3.09000000e+02, 1.36000000e+02, 2.88000000e+02,\n",
       "       7.00000000e+01, 3.20000000e+02, 5.00000000e+01, 1.20000000e+02,\n",
       "       4.36000000e+02, 2.52000000e+02, 8.40000000e+01, 6.64000000e+02,\n",
       "       2.26000000e+02, 3.00000000e+02, 6.53000000e+02, 1.12000000e+02,\n",
       "       4.91000000e+02, 2.68000000e+02, 7.48000000e+02, 9.80000000e+01,\n",
       "       2.75000000e+02, 1.38000000e+02, 2.05000000e+02, 2.62000000e+02,\n",
       "       1.28000000e+02, 2.60000000e+02, 1.53000000e+02, 6.40000000e+01,\n",
       "       3.12000000e+02, 1.60000000e+01, 9.22000000e+02, 1.42000000e+02,\n",
       "       2.90000000e+02, 1.27000000e+02, 5.06000000e+02, 2.97000000e+02,\n",
       "       1.03685262e+02, 6.04000000e+02, 2.54000000e+02, 3.60000000e+01,\n",
       "       1.02000000e+02, 4.72000000e+02, 4.81000000e+02, 1.08000000e+02,\n",
       "       3.02000000e+02, 1.72000000e+02, 3.99000000e+02, 2.70000000e+02,\n",
       "       4.60000000e+01, 2.10000000e+02, 1.74000000e+02, 3.48000000e+02,\n",
       "       3.15000000e+02, 2.99000000e+02, 3.40000000e+02, 1.66000000e+02,\n",
       "       7.20000000e+01, 3.10000000e+01, 3.40000000e+01, 2.38000000e+02,\n",
       "       1.60000000e+03, 3.65000000e+02, 5.60000000e+01, 1.50000000e+02,\n",
       "       2.78000000e+02, 2.56000000e+02, 2.25000000e+02, 3.70000000e+02,\n",
       "       3.88000000e+02, 1.75000000e+02, 2.96000000e+02, 1.46000000e+02,\n",
       "       1.13000000e+02, 1.76000000e+02, 6.16000000e+02, 3.00000000e+01,\n",
       "       1.06000000e+02, 8.70000000e+02, 3.62000000e+02, 5.30000000e+02,\n",
       "       5.00000000e+02, 5.10000000e+02, 2.47000000e+02, 3.05000000e+02,\n",
       "       2.55000000e+02, 1.25000000e+02, 1.00000000e+02, 4.32000000e+02,\n",
       "       1.26000000e+02, 4.73000000e+02, 7.40000000e+01, 1.45000000e+02,\n",
       "       2.32000000e+02, 3.76000000e+02, 4.20000000e+01, 1.61000000e+02,\n",
       "       1.10000000e+02, 1.80000000e+01, 2.24000000e+02, 2.48000000e+02,\n",
       "       8.00000000e+01, 3.04000000e+02, 2.15000000e+02, 7.72000000e+02,\n",
       "       4.35000000e+02, 3.78000000e+02, 5.62000000e+02, 1.68000000e+02,\n",
       "       8.90000000e+01, 2.85000000e+02, 3.60000000e+02, 9.40000000e+01,\n",
       "       3.33000000e+02, 9.21000000e+02, 7.62000000e+02, 5.94000000e+02,\n",
       "       2.19000000e+02, 1.88000000e+02, 4.79000000e+02, 5.84000000e+02,\n",
       "       1.82000000e+02, 2.50000000e+02, 2.92000000e+02, 2.45000000e+02,\n",
       "       2.07000000e+02, 8.20000000e+01, 9.70000000e+01, 3.35000000e+02,\n",
       "       2.08000000e+02, 4.20000000e+02, 1.70000000e+02, 4.59000000e+02,\n",
       "       2.80000000e+02, 9.90000000e+01, 1.92000000e+02, 2.04000000e+02,\n",
       "       2.33000000e+02, 1.56000000e+02, 4.52000000e+02, 5.13000000e+02,\n",
       "       2.61000000e+02, 1.64000000e+02, 2.59000000e+02, 2.09000000e+02,\n",
       "       2.63000000e+02, 2.16000000e+02, 3.51000000e+02, 6.60000000e+02,\n",
       "       3.81000000e+02, 5.40000000e+01, 5.28000000e+02, 2.58000000e+02,\n",
       "       4.64000000e+02, 5.70000000e+01, 1.47000000e+02, 1.17000000e+03,\n",
       "       2.93000000e+02, 6.30000000e+02, 4.66000000e+02, 1.09000000e+02,\n",
       "       4.10000000e+01, 1.60000000e+02, 2.89000000e+02, 6.51000000e+02,\n",
       "       1.69000000e+02, 9.50000000e+01, 4.42000000e+02, 2.02000000e+02,\n",
       "       3.38000000e+02, 8.94000000e+02, 3.28000000e+02, 6.73000000e+02,\n",
       "       6.03000000e+02, 1.00000000e+00, 3.75000000e+02, 9.00000000e+01,\n",
       "       3.80000000e+01, 1.57000000e+02, 1.10000000e+01, 1.40000000e+02,\n",
       "       1.30000000e+02, 1.48000000e+02, 8.60000000e+02, 4.24000000e+02,\n",
       "       1.04700000e+03, 2.43000000e+02, 8.16000000e+02, 3.87000000e+02,\n",
       "       2.23000000e+02, 1.58000000e+02, 1.37000000e+02, 1.15000000e+02,\n",
       "       1.89000000e+02, 2.74000000e+02, 1.17000000e+02, 6.00000000e+01,\n",
       "       1.22000000e+02, 9.20000000e+01, 4.15000000e+02, 7.60000000e+02,\n",
       "       2.70000000e+01, 7.50000000e+01, 3.61000000e+02, 1.05000000e+02,\n",
       "       3.42000000e+02, 2.98000000e+02, 5.41000000e+02, 2.36000000e+02,\n",
       "       1.44000000e+02, 4.23000000e+02, 4.40000000e+01, 1.51000000e+02,\n",
       "       9.75000000e+02, 4.50000000e+02, 2.30000000e+02, 5.71000000e+02,\n",
       "       2.40000000e+01, 5.30000000e+01, 2.06000000e+02, 1.40000000e+01,\n",
       "       3.24000000e+02, 2.95000000e+02, 3.96000000e+02, 6.70000000e+01,\n",
       "       1.54000000e+02, 4.25000000e+02, 4.50000000e+01, 1.37800000e+03,\n",
       "       3.37000000e+02, 1.49000000e+02, 1.43000000e+02, 5.10000000e+01,\n",
       "       1.71000000e+02, 2.34000000e+02, 6.30000000e+01, 7.66000000e+02,\n",
       "       3.20000000e+01, 8.10000000e+01, 1.63000000e+02, 5.54000000e+02,\n",
       "       2.18000000e+02, 6.32000000e+02, 1.14000000e+02, 5.67000000e+02,\n",
       "       3.59000000e+02, 4.51000000e+02, 6.21000000e+02, 7.88000000e+02,\n",
       "       8.60000000e+01, 7.96000000e+02, 3.91000000e+02, 2.28000000e+02,\n",
       "       8.80000000e+01, 1.65000000e+02, 4.28000000e+02, 4.10000000e+02,\n",
       "       5.64000000e+02, 3.68000000e+02, 3.18000000e+02, 5.79000000e+02,\n",
       "       6.50000000e+01, 7.05000000e+02, 4.08000000e+02, 2.44000000e+02,\n",
       "       1.23000000e+02, 3.66000000e+02, 7.31000000e+02, 4.48000000e+02,\n",
       "       2.94000000e+02, 3.10000000e+02, 2.37000000e+02, 4.26000000e+02,\n",
       "       9.60000000e+01, 4.38000000e+02, 1.94000000e+02, 1.19000000e+02])"
      ]
     },
     "execution_count": 23,
     "metadata": {},
     "output_type": "execute_result"
    }
   ],
   "source": [
    "# Заполняем пустые значения средними значениями\n",
    "df['MasVnrArea'] = df['MasVnrArea'].fillna(df['MasVnrArea'].mean())\n",
    "# Проверяем\n",
    "df['MasVnrArea'].unique()"
   ]
  },
  {
   "cell_type": "code",
   "execution_count": 28,
   "metadata": {},
   "outputs": [
    {
     "name": "stdout",
     "output_type": "stream",
     "text": [
      "<class 'pandas.core.series.Series'>\n",
      "RangeIndex: 1460 entries, 0 to 1459\n",
      "Series name: BsmtQual\n",
      "Non-Null Count  Dtype \n",
      "--------------  ----- \n",
      "1423 non-null   object\n",
      "dtypes: object(1)\n",
      "memory usage: 11.5+ KB\n"
     ]
    },
    {
     "data": {
      "text/plain": [
       "array(['Gd', 'TA', 'Ex', nan, 'Fa'], dtype=object)"
      ]
     },
     "execution_count": 28,
     "metadata": {},
     "output_type": "execute_result"
    }
   ],
   "source": [
    "# Обработка для столбца BsmtQual: Height of the basement(Технические характеристики: Высота подвала):\n",
    "df['BsmtQual'].info() # Определяем тип данных, количество значений\n",
    "df['BsmtQual'].unique() # Поиск уникальных значений"
   ]
  },
  {
   "cell_type": "code",
   "execution_count": 32,
   "metadata": {},
   "outputs": [
    {
     "data": {
      "text/plain": [
       "array(['Gd', 'TA', 'Ex', 'NC', 'Fa'], dtype=object)"
      ]
     },
     "execution_count": 32,
     "metadata": {},
     "output_type": "execute_result"
    }
   ],
   "source": [
    "# Заполним пустые ячейки значением \"Not Checked (NC)\"\n",
    "df['BsmtQual'] = df['BsmtQual'].fillna('NC')\n",
    "# Проверяем\n",
    "df['BsmtQual'].unique()"
   ]
  },
  {
   "cell_type": "code",
   "execution_count": 33,
   "metadata": {},
   "outputs": [
    {
     "name": "stdout",
     "output_type": "stream",
     "text": [
      "<class 'pandas.core.series.Series'>\n",
      "RangeIndex: 1460 entries, 0 to 1459\n",
      "Series name: BsmtExposure\n",
      "Non-Null Count  Dtype \n",
      "--------------  ----- \n",
      "1422 non-null   object\n",
      "dtypes: object(1)\n",
      "memory usage: 11.5+ KB\n"
     ]
    },
    {
     "data": {
      "text/plain": [
       "array(['No', 'Gd', 'Mn', 'Av', nan], dtype=object)"
      ]
     },
     "execution_count": 33,
     "metadata": {},
     "output_type": "execute_result"
    }
   ],
   "source": [
    "# Обработка для столбца  BsmtExposure: Walkout or garden level basement walls(Внутреннее убранство: Стены подвала на уровне пешеходной дорожки или сада):\n",
    "df['BsmtExposure'].info() # Определяем тип данных, количество значений\n",
    "df['BsmtExposure'].unique() # Поиск уникальных значений"
   ]
  },
  {
   "cell_type": "code",
   "execution_count": 34,
   "metadata": {},
   "outputs": [
    {
     "data": {
      "text/plain": [
       "array(['No', 'Gd', 'Mn', 'Av', 'Mis'], dtype=object)"
      ]
     },
     "execution_count": 34,
     "metadata": {},
     "output_type": "execute_result"
    }
   ],
   "source": [
    "# Заполним пустые ячейки значением \"Missing (Mis)\"\n",
    "df['BsmtExposure'] = df['BsmtExposure'].fillna('Mis')\n",
    "# Проверяем\n",
    "df['BsmtExposure'].unique()"
   ]
  },
  {
   "cell_type": "code",
   "execution_count": 35,
   "metadata": {},
   "outputs": [
    {
     "name": "stdout",
     "output_type": "stream",
     "text": [
      "<class 'pandas.core.series.Series'>\n",
      "RangeIndex: 1460 entries, 0 to 1459\n",
      "Series name: Electrical\n",
      "Non-Null Count  Dtype \n",
      "--------------  ----- \n",
      "1459 non-null   object\n",
      "dtypes: object(1)\n",
      "memory usage: 11.5+ KB\n"
     ]
    },
    {
     "data": {
      "text/plain": [
       "array(['SBrkr', 'FuseF', 'FuseA', 'FuseP', 'Mix', nan], dtype=object)"
      ]
     },
     "execution_count": 35,
     "metadata": {},
     "output_type": "execute_result"
    }
   ],
   "source": [
    "# Обработка для столбца Electrical: Electrical system(Электрические: Система электроснабжения):\n",
    "df['Electrical'].info() # Определяем тип данных, количество значений\n",
    "df['Electrical'].unique() # Поиск уникальных значений"
   ]
  },
  {
   "cell_type": "code",
   "execution_count": 36,
   "metadata": {},
   "outputs": [
    {
     "data": {
      "text/plain": [
       "array(['SBrkr', 'FuseF', 'FuseA', 'FuseP', 'Mix'], dtype=object)"
      ]
     },
     "execution_count": 36,
     "metadata": {},
     "output_type": "execute_result"
    }
   ],
   "source": [
    "# Заполняем пустые значения на моду\n",
    "df['Electrical'] = df['Electrical'].fillna(df['Electrical'].mode().iloc[0])\n",
    "# Проверяем\n",
    "df['Electrical'].unique()"
   ]
  },
  {
   "cell_type": "code",
   "execution_count": 38,
   "metadata": {},
   "outputs": [
    {
     "name": "stdout",
     "output_type": "stream",
     "text": [
      "<class 'pandas.core.series.Series'>\n",
      "RangeIndex: 1460 entries, 0 to 1459\n",
      "Series name: GarageType\n",
      "Non-Null Count  Dtype \n",
      "--------------  ----- \n",
      "1379 non-null   object\n",
      "dtypes: object(1)\n",
      "memory usage: 11.5+ KB\n"
     ]
    },
    {
     "data": {
      "text/plain": [
       "array(['Attchd', 'Detchd', 'BuiltIn', 'CarPort', nan, 'Basment', '2Types'],\n",
       "      dtype=object)"
      ]
     },
     "execution_count": 38,
     "metadata": {},
     "output_type": "execute_result"
    }
   ],
   "source": [
    "# Обработка для столбца GarageType: Garage location(Тип гаража: Расположение гаража):\n",
    "df['GarageType'].info() # Определяем тип данных, количество значений\n",
    "df['GarageType'].unique() # Поиск уникальных значений"
   ]
  },
  {
   "cell_type": "code",
   "execution_count": 39,
   "metadata": {},
   "outputs": [
    {
     "data": {
      "text/plain": [
       "array(['Attchd', 'Detchd', 'BuiltIn', 'CarPort', 'NoType', 'Basment',\n",
       "       '2Types'], dtype=object)"
      ]
     },
     "execution_count": 39,
     "metadata": {},
     "output_type": "execute_result"
    }
   ],
   "source": [
    "# Заполним пустые ячейки значением \"NoType\"\n",
    "df['GarageType'] = df['GarageType'].fillna('NoType')\n",
    "# Проверяем\n",
    "df['GarageType'].unique()"
   ]
  },
  {
   "cell_type": "code",
   "execution_count": 40,
   "metadata": {},
   "outputs": [
    {
     "name": "stdout",
     "output_type": "stream",
     "text": [
      "<class 'pandas.core.series.Series'>\n",
      "RangeIndex: 1460 entries, 0 to 1459\n",
      "Series name: GarageYrBlt\n",
      "Non-Null Count  Dtype  \n",
      "--------------  -----  \n",
      "1379 non-null   float64\n",
      "dtypes: float64(1)\n",
      "memory usage: 11.5 KB\n"
     ]
    },
    {
     "data": {
      "text/plain": [
       "array([2003., 1976., 2001., 1998., 2000., 1993., 2004., 1973., 1931.,\n",
       "       1939., 1965., 2005., 1962., 2006., 1960., 1991., 1970., 1967.,\n",
       "       1958., 1930., 2002., 1968., 2007., 2008., 1957., 1920., 1966.,\n",
       "       1959., 1995., 1954., 1953.,   nan, 1983., 1977., 1997., 1985.,\n",
       "       1963., 1981., 1964., 1999., 1935., 1990., 1945., 1987., 1989.,\n",
       "       1915., 1956., 1948., 1974., 2009., 1950., 1961., 1921., 1900.,\n",
       "       1979., 1951., 1969., 1936., 1975., 1971., 1923., 1984., 1926.,\n",
       "       1955., 1986., 1988., 1916., 1932., 1972., 1918., 1980., 1924.,\n",
       "       1996., 1940., 1949., 1994., 1910., 1978., 1982., 1992., 1925.,\n",
       "       1941., 2010., 1927., 1947., 1937., 1942., 1938., 1952., 1928.,\n",
       "       1922., 1934., 1906., 1914., 1946., 1908., 1929., 1933.])"
      ]
     },
     "execution_count": 40,
     "metadata": {},
     "output_type": "execute_result"
    }
   ],
   "source": [
    "# Обработка для столбца GarageYrBlt: Year garage was built(Дата постройки гаража: Год постройки гаража):\n",
    "df['GarageYrBlt'].info() # Определяем тип данных, количество значений\n",
    "df['GarageYrBlt'].unique() # Поиск уникальных значений"
   ]
  },
  {
   "cell_type": "code",
   "execution_count": 41,
   "metadata": {},
   "outputs": [
    {
     "data": {
      "text/plain": [
       "array([2003.        , 1976.        , 2001.        , 1998.        ,\n",
       "       2000.        , 1993.        , 2004.        , 1973.        ,\n",
       "       1931.        , 1939.        , 1965.        , 2005.        ,\n",
       "       1962.        , 2006.        , 1960.        , 1991.        ,\n",
       "       1970.        , 1967.        , 1958.        , 1930.        ,\n",
       "       2002.        , 1968.        , 2007.        , 2008.        ,\n",
       "       1957.        , 1920.        , 1966.        , 1959.        ,\n",
       "       1995.        , 1954.        , 1953.        , 1978.50616389,\n",
       "       1983.        , 1977.        , 1997.        , 1985.        ,\n",
       "       1963.        , 1981.        , 1964.        , 1999.        ,\n",
       "       1935.        , 1990.        , 1945.        , 1987.        ,\n",
       "       1989.        , 1915.        , 1956.        , 1948.        ,\n",
       "       1974.        , 2009.        , 1950.        , 1961.        ,\n",
       "       1921.        , 1900.        , 1979.        , 1951.        ,\n",
       "       1969.        , 1936.        , 1975.        , 1971.        ,\n",
       "       1923.        , 1984.        , 1926.        , 1955.        ,\n",
       "       1986.        , 1988.        , 1916.        , 1932.        ,\n",
       "       1972.        , 1918.        , 1980.        , 1924.        ,\n",
       "       1996.        , 1940.        , 1949.        , 1994.        ,\n",
       "       1910.        , 1978.        , 1982.        , 1992.        ,\n",
       "       1925.        , 1941.        , 2010.        , 1927.        ,\n",
       "       1947.        , 1937.        , 1942.        , 1938.        ,\n",
       "       1952.        , 1928.        , 1922.        , 1934.        ,\n",
       "       1906.        , 1914.        , 1946.        , 1908.        ,\n",
       "       1929.        , 1933.        ])"
      ]
     },
     "execution_count": 41,
     "metadata": {},
     "output_type": "execute_result"
    }
   ],
   "source": [
    "# Заполняем пустые значения средними значениями\n",
    "df['GarageYrBlt'] = df['GarageYrBlt'].fillna(df['GarageYrBlt'].mean())\n",
    "# Проверяем\n",
    "df['GarageYrBlt'].unique()"
   ]
  },
  {
   "cell_type": "code",
   "execution_count": 42,
   "metadata": {},
   "outputs": [
    {
     "data": {
      "text/plain": [
       "array([2003, 1976, 2001, 1998, 2000, 1993, 2004, 1973, 1931, 1939, 1965,\n",
       "       2005, 1962, 2006, 1960, 1991, 1970, 1967, 1958, 1930, 2002, 1968,\n",
       "       2007, 2008, 1957, 1920, 1966, 1959, 1995, 1954, 1953, 1979, 1983,\n",
       "       1977, 1997, 1985, 1963, 1981, 1964, 1999, 1935, 1990, 1945, 1987,\n",
       "       1989, 1915, 1956, 1948, 1974, 2009, 1950, 1961, 1921, 1900, 1951,\n",
       "       1969, 1936, 1975, 1971, 1923, 1984, 1926, 1955, 1986, 1988, 1916,\n",
       "       1932, 1972, 1918, 1980, 1924, 1996, 1940, 1949, 1994, 1910, 1978,\n",
       "       1982, 1992, 1925, 1941, 2010, 1927, 1947, 1937, 1942, 1938, 1952,\n",
       "       1928, 1922, 1934, 1906, 1914, 1946, 1908, 1929, 1933])"
      ]
     },
     "execution_count": 42,
     "metadata": {},
     "output_type": "execute_result"
    }
   ],
   "source": [
    "# По начальному состоянию видим, что здесь не используются значения float в следствии чего переводит в int\n",
    "# Сначала округлим значения на всякий случай\n",
    "df['GarageYrBlt'] = df['GarageYrBlt'].round()\n",
    "# Затем преобразуем округленные значения в int\n",
    "df['GarageYrBlt'] = df['GarageYrBlt'].astype(int)\n",
    "# Проверяем\n",
    "df['GarageYrBlt'].unique()"
   ]
  },
  {
   "cell_type": "code",
   "execution_count": 44,
   "metadata": {},
   "outputs": [
    {
     "name": "stdout",
     "output_type": "stream",
     "text": [
      "<class 'pandas.core.series.Series'>\n",
      "RangeIndex: 1460 entries, 0 to 1459\n",
      "Series name: GarageFinish\n",
      "Non-Null Count  Dtype \n",
      "--------------  ----- \n",
      "1379 non-null   object\n",
      "dtypes: object(1)\n",
      "memory usage: 11.5+ KB\n"
     ]
    },
    {
     "data": {
      "text/plain": [
       "array(['RFn', 'Unf', 'Fin', nan], dtype=object)"
      ]
     },
     "execution_count": 44,
     "metadata": {},
     "output_type": "execute_result"
    }
   ],
   "source": [
    "# Обработка для столбца GarageFinish: Interior finish of the garage(Отделка гаража: Внутренняя отделка гаража):\n",
    "df['GarageFinish'].info() # Определяем тип данных, количество значений\n",
    "df['GarageFinish'].unique() # Поиск уникальных значений"
   ]
  },
  {
   "cell_type": "code",
   "execution_count": 46,
   "metadata": {},
   "outputs": [
    {
     "data": {
      "text/plain": [
       "array(['RFn', 'Unf', 'Fin', 'Nope'], dtype=object)"
      ]
     },
     "execution_count": 46,
     "metadata": {},
     "output_type": "execute_result"
    }
   ],
   "source": [
    "# Заполним пустые ячейки значением \"Nope\"\n",
    "df['GarageFinish'] = df['GarageFinish'].fillna('Nope')\n",
    "# Проверяем\n",
    "df['GarageFinish'].unique()"
   ]
  },
  {
   "cell_type": "code",
   "execution_count": 47,
   "metadata": {},
   "outputs": [],
   "source": [
    "# Столбцы для удаления, на мой взгляд оценки качества не несут ценности\n",
    "columns_to_remove = ['BsmtCond', 'BsmtFinType1', 'BsmtFinType2', 'FireplaceQu', 'GarageQual', 'GarageCond', 'PoolQC', 'Fence', 'MiscFeature']\n",
    "\n",
    "df = df.drop(columns=columns_to_remove)"
   ]
  },
  {
   "cell_type": "code",
   "execution_count": 53,
   "metadata": {},
   "outputs": [
    {
     "data": {
      "text/plain": [
       "0       False\n",
       "1       False\n",
       "2       False\n",
       "3       False\n",
       "4       False\n",
       "        ...  \n",
       "1455    False\n",
       "1456    False\n",
       "1457    False\n",
       "1458    False\n",
       "1459    False\n",
       "Length: 1460, dtype: bool"
      ]
     },
     "execution_count": 53,
     "metadata": {},
     "output_type": "execute_result"
    }
   ],
   "source": [
    "# Проверка на дубликаты, дубликатов нет.\n",
    "duplicates = df.duplicated()\n",
    "duplicates"
   ]
  },
  {
   "cell_type": "code",
   "execution_count": 28,
   "metadata": {},
   "outputs": [
    {
     "data": {
      "text/html": [
       "<div>\n",
       "<style scoped>\n",
       "    .dataframe tbody tr th:only-of-type {\n",
       "        vertical-align: middle;\n",
       "    }\n",
       "\n",
       "    .dataframe tbody tr th {\n",
       "        vertical-align: top;\n",
       "    }\n",
       "\n",
       "    .dataframe thead th {\n",
       "        text-align: right;\n",
       "    }\n",
       "</style>\n",
       "<table border=\"1\" class=\"dataframe\">\n",
       "  <thead>\n",
       "    <tr style=\"text-align: right;\">\n",
       "      <th></th>\n",
       "      <th>Id</th>\n",
       "      <th>MSSubClass</th>\n",
       "      <th>MSZoning</th>\n",
       "      <th>LotFrontage</th>\n",
       "      <th>LotArea</th>\n",
       "      <th>Street</th>\n",
       "      <th>Alley</th>\n",
       "      <th>LotShape</th>\n",
       "      <th>LandContour</th>\n",
       "      <th>Utilities</th>\n",
       "      <th>...</th>\n",
       "      <th>PoolArea</th>\n",
       "      <th>PoolQC</th>\n",
       "      <th>Fence</th>\n",
       "      <th>MiscFeature</th>\n",
       "      <th>MiscVal</th>\n",
       "      <th>MoSold</th>\n",
       "      <th>YrSold</th>\n",
       "      <th>SaleType</th>\n",
       "      <th>SaleCondition</th>\n",
       "      <th>SalePrice</th>\n",
       "    </tr>\n",
       "  </thead>\n",
       "  <tbody>\n",
       "  </tbody>\n",
       "</table>\n",
       "<p>0 rows × 81 columns</p>\n",
       "</div>"
      ],
      "text/plain": [
       "Empty DataFrame\n",
       "Columns: [Id, MSSubClass, MSZoning, LotFrontage, LotArea, Street, Alley, LotShape, LandContour, Utilities, LotConfig, LandSlope, Neighborhood, Condition1, Condition2, BldgType, HouseStyle, OverallQual, OverallCond, YearBuilt, YearRemodAdd, RoofStyle, RoofMatl, Exterior1st, Exterior2nd, MasVnrType, MasVnrArea, ExterQual, ExterCond, Foundation, BsmtQual, BsmtCond, BsmtExposure, BsmtFinType1, BsmtFinSF1, BsmtFinType2, BsmtFinSF2, BsmtUnfSF, TotalBsmtSF, Heating, HeatingQC, CentralAir, Electrical, 1stFlrSF, 2ndFlrSF, LowQualFinSF, GrLivArea, BsmtFullBath, BsmtHalfBath, FullBath, HalfBath, BedroomAbvGr, KitchenAbvGr, KitchenQual, TotRmsAbvGrd, Functional, Fireplaces, FireplaceQu, GarageType, GarageYrBlt, GarageFinish, GarageCars, GarageArea, GarageQual, GarageCond, PavedDrive, WoodDeckSF, OpenPorchSF, EnclosedPorch, 3SsnPorch, ScreenPorch, PoolArea, PoolQC, Fence, MiscFeature, MiscVal, MoSold, YrSold, SaleType, SaleCondition, SalePrice]\n",
       "Index: []\n",
       "\n",
       "[0 rows x 81 columns]"
      ]
     },
     "execution_count": 28,
     "metadata": {},
     "output_type": "execute_result"
    }
   ],
   "source": [
    "# Дополнительная проверка на дубликаты, дубликатов нет.\n",
    "duplicates_df = df[duplicates]\n",
    "duplicates_df"
   ]
  },
  {
   "cell_type": "code",
   "execution_count": 62,
   "metadata": {},
   "outputs": [],
   "source": [
    "# Просто чтобы было )\n",
    "# удаление дублирующихся строк\n",
    "# df.drop_duplicates(inplace=True)"
   ]
  },
  {
   "cell_type": "code",
   "execution_count": 58,
   "metadata": {},
   "outputs": [
    {
     "data": {
      "text/html": [
       "<div>\n",
       "<style scoped>\n",
       "    .dataframe tbody tr th:only-of-type {\n",
       "        vertical-align: middle;\n",
       "    }\n",
       "\n",
       "    .dataframe tbody tr th {\n",
       "        vertical-align: top;\n",
       "    }\n",
       "\n",
       "    .dataframe thead th {\n",
       "        text-align: right;\n",
       "    }\n",
       "</style>\n",
       "<table border=\"1\" class=\"dataframe\">\n",
       "  <thead>\n",
       "    <tr style=\"text-align: right;\">\n",
       "      <th></th>\n",
       "      <th>Id</th>\n",
       "      <th>MSSubClass</th>\n",
       "      <th>LotFrontage</th>\n",
       "      <th>LotArea</th>\n",
       "      <th>OverallQual</th>\n",
       "      <th>OverallCond</th>\n",
       "      <th>YearBuilt</th>\n",
       "      <th>YearRemodAdd</th>\n",
       "      <th>MasVnrArea</th>\n",
       "      <th>BsmtFinSF1</th>\n",
       "      <th>...</th>\n",
       "      <th>WoodDeckSF</th>\n",
       "      <th>OpenPorchSF</th>\n",
       "      <th>EnclosedPorch</th>\n",
       "      <th>3SsnPorch</th>\n",
       "      <th>ScreenPorch</th>\n",
       "      <th>PoolArea</th>\n",
       "      <th>MiscVal</th>\n",
       "      <th>MoSold</th>\n",
       "      <th>YrSold</th>\n",
       "      <th>SalePrice</th>\n",
       "    </tr>\n",
       "  </thead>\n",
       "  <tbody>\n",
       "    <tr>\n",
       "      <th>count</th>\n",
       "      <td>1460.0</td>\n",
       "      <td>1460.0</td>\n",
       "      <td>1460.0</td>\n",
       "      <td>1460.0</td>\n",
       "      <td>1460.0</td>\n",
       "      <td>1460.0</td>\n",
       "      <td>1460.0</td>\n",
       "      <td>1460.0</td>\n",
       "      <td>1460.0</td>\n",
       "      <td>1460.0</td>\n",
       "      <td>...</td>\n",
       "      <td>1460.0</td>\n",
       "      <td>1460.0</td>\n",
       "      <td>1460.0</td>\n",
       "      <td>1460.0</td>\n",
       "      <td>1460.0</td>\n",
       "      <td>1460.0</td>\n",
       "      <td>1460.0</td>\n",
       "      <td>1460.0</td>\n",
       "      <td>1460.0</td>\n",
       "      <td>1460.0</td>\n",
       "    </tr>\n",
       "    <tr>\n",
       "      <th>mean</th>\n",
       "      <td>730.5</td>\n",
       "      <td>56.9</td>\n",
       "      <td>70.0</td>\n",
       "      <td>10516.8</td>\n",
       "      <td>6.1</td>\n",
       "      <td>5.6</td>\n",
       "      <td>1971.3</td>\n",
       "      <td>1984.9</td>\n",
       "      <td>103.7</td>\n",
       "      <td>443.6</td>\n",
       "      <td>...</td>\n",
       "      <td>94.2</td>\n",
       "      <td>46.7</td>\n",
       "      <td>22.0</td>\n",
       "      <td>3.4</td>\n",
       "      <td>15.1</td>\n",
       "      <td>2.8</td>\n",
       "      <td>43.5</td>\n",
       "      <td>6.3</td>\n",
       "      <td>2007.8</td>\n",
       "      <td>180921.2</td>\n",
       "    </tr>\n",
       "    <tr>\n",
       "      <th>std</th>\n",
       "      <td>421.6</td>\n",
       "      <td>42.3</td>\n",
       "      <td>22.0</td>\n",
       "      <td>9981.3</td>\n",
       "      <td>1.4</td>\n",
       "      <td>1.1</td>\n",
       "      <td>30.2</td>\n",
       "      <td>20.6</td>\n",
       "      <td>180.6</td>\n",
       "      <td>456.1</td>\n",
       "      <td>...</td>\n",
       "      <td>125.3</td>\n",
       "      <td>66.3</td>\n",
       "      <td>61.1</td>\n",
       "      <td>29.3</td>\n",
       "      <td>55.8</td>\n",
       "      <td>40.2</td>\n",
       "      <td>496.1</td>\n",
       "      <td>2.7</td>\n",
       "      <td>1.3</td>\n",
       "      <td>79442.5</td>\n",
       "    </tr>\n",
       "    <tr>\n",
       "      <th>min</th>\n",
       "      <td>1.0</td>\n",
       "      <td>20.0</td>\n",
       "      <td>21.0</td>\n",
       "      <td>1300.0</td>\n",
       "      <td>1.0</td>\n",
       "      <td>1.0</td>\n",
       "      <td>1872.0</td>\n",
       "      <td>1950.0</td>\n",
       "      <td>0.0</td>\n",
       "      <td>0.0</td>\n",
       "      <td>...</td>\n",
       "      <td>0.0</td>\n",
       "      <td>0.0</td>\n",
       "      <td>0.0</td>\n",
       "      <td>0.0</td>\n",
       "      <td>0.0</td>\n",
       "      <td>0.0</td>\n",
       "      <td>0.0</td>\n",
       "      <td>1.0</td>\n",
       "      <td>2006.0</td>\n",
       "      <td>34900.0</td>\n",
       "    </tr>\n",
       "    <tr>\n",
       "      <th>25%</th>\n",
       "      <td>365.8</td>\n",
       "      <td>20.0</td>\n",
       "      <td>60.0</td>\n",
       "      <td>7553.5</td>\n",
       "      <td>5.0</td>\n",
       "      <td>5.0</td>\n",
       "      <td>1954.0</td>\n",
       "      <td>1967.0</td>\n",
       "      <td>0.0</td>\n",
       "      <td>0.0</td>\n",
       "      <td>...</td>\n",
       "      <td>0.0</td>\n",
       "      <td>0.0</td>\n",
       "      <td>0.0</td>\n",
       "      <td>0.0</td>\n",
       "      <td>0.0</td>\n",
       "      <td>0.0</td>\n",
       "      <td>0.0</td>\n",
       "      <td>5.0</td>\n",
       "      <td>2007.0</td>\n",
       "      <td>129975.0</td>\n",
       "    </tr>\n",
       "    <tr>\n",
       "      <th>50%</th>\n",
       "      <td>730.5</td>\n",
       "      <td>50.0</td>\n",
       "      <td>70.0</td>\n",
       "      <td>9478.5</td>\n",
       "      <td>6.0</td>\n",
       "      <td>5.0</td>\n",
       "      <td>1973.0</td>\n",
       "      <td>1994.0</td>\n",
       "      <td>0.0</td>\n",
       "      <td>383.5</td>\n",
       "      <td>...</td>\n",
       "      <td>0.0</td>\n",
       "      <td>25.0</td>\n",
       "      <td>0.0</td>\n",
       "      <td>0.0</td>\n",
       "      <td>0.0</td>\n",
       "      <td>0.0</td>\n",
       "      <td>0.0</td>\n",
       "      <td>6.0</td>\n",
       "      <td>2008.0</td>\n",
       "      <td>163000.0</td>\n",
       "    </tr>\n",
       "    <tr>\n",
       "      <th>75%</th>\n",
       "      <td>1095.2</td>\n",
       "      <td>70.0</td>\n",
       "      <td>79.0</td>\n",
       "      <td>11601.5</td>\n",
       "      <td>7.0</td>\n",
       "      <td>6.0</td>\n",
       "      <td>2000.0</td>\n",
       "      <td>2004.0</td>\n",
       "      <td>164.2</td>\n",
       "      <td>712.2</td>\n",
       "      <td>...</td>\n",
       "      <td>168.0</td>\n",
       "      <td>68.0</td>\n",
       "      <td>0.0</td>\n",
       "      <td>0.0</td>\n",
       "      <td>0.0</td>\n",
       "      <td>0.0</td>\n",
       "      <td>0.0</td>\n",
       "      <td>8.0</td>\n",
       "      <td>2009.0</td>\n",
       "      <td>214000.0</td>\n",
       "    </tr>\n",
       "    <tr>\n",
       "      <th>max</th>\n",
       "      <td>1460.0</td>\n",
       "      <td>190.0</td>\n",
       "      <td>313.0</td>\n",
       "      <td>215245.0</td>\n",
       "      <td>10.0</td>\n",
       "      <td>9.0</td>\n",
       "      <td>2010.0</td>\n",
       "      <td>2010.0</td>\n",
       "      <td>1600.0</td>\n",
       "      <td>5644.0</td>\n",
       "      <td>...</td>\n",
       "      <td>857.0</td>\n",
       "      <td>547.0</td>\n",
       "      <td>552.0</td>\n",
       "      <td>508.0</td>\n",
       "      <td>480.0</td>\n",
       "      <td>738.0</td>\n",
       "      <td>15500.0</td>\n",
       "      <td>12.0</td>\n",
       "      <td>2010.0</td>\n",
       "      <td>755000.0</td>\n",
       "    </tr>\n",
       "  </tbody>\n",
       "</table>\n",
       "<p>8 rows × 38 columns</p>\n",
       "</div>"
      ],
      "text/plain": [
       "           Id  MSSubClass  LotFrontage   LotArea  OverallQual  OverallCond  \\\n",
       "count  1460.0      1460.0       1460.0    1460.0       1460.0       1460.0   \n",
       "mean    730.5        56.9         70.0   10516.8          6.1          5.6   \n",
       "std     421.6        42.3         22.0    9981.3          1.4          1.1   \n",
       "min       1.0        20.0         21.0    1300.0          1.0          1.0   \n",
       "25%     365.8        20.0         60.0    7553.5          5.0          5.0   \n",
       "50%     730.5        50.0         70.0    9478.5          6.0          5.0   \n",
       "75%    1095.2        70.0         79.0   11601.5          7.0          6.0   \n",
       "max    1460.0       190.0        313.0  215245.0         10.0          9.0   \n",
       "\n",
       "       YearBuilt  YearRemodAdd  MasVnrArea  BsmtFinSF1  ...  WoodDeckSF  \\\n",
       "count     1460.0        1460.0      1460.0      1460.0  ...      1460.0   \n",
       "mean      1971.3        1984.9       103.7       443.6  ...        94.2   \n",
       "std         30.2          20.6       180.6       456.1  ...       125.3   \n",
       "min       1872.0        1950.0         0.0         0.0  ...         0.0   \n",
       "25%       1954.0        1967.0         0.0         0.0  ...         0.0   \n",
       "50%       1973.0        1994.0         0.0       383.5  ...         0.0   \n",
       "75%       2000.0        2004.0       164.2       712.2  ...       168.0   \n",
       "max       2010.0        2010.0      1600.0      5644.0  ...       857.0   \n",
       "\n",
       "       OpenPorchSF  EnclosedPorch  3SsnPorch  ScreenPorch  PoolArea  MiscVal  \\\n",
       "count       1460.0         1460.0     1460.0       1460.0    1460.0   1460.0   \n",
       "mean          46.7           22.0        3.4         15.1       2.8     43.5   \n",
       "std           66.3           61.1       29.3         55.8      40.2    496.1   \n",
       "min            0.0            0.0        0.0          0.0       0.0      0.0   \n",
       "25%            0.0            0.0        0.0          0.0       0.0      0.0   \n",
       "50%           25.0            0.0        0.0          0.0       0.0      0.0   \n",
       "75%           68.0            0.0        0.0          0.0       0.0      0.0   \n",
       "max          547.0          552.0      508.0        480.0     738.0  15500.0   \n",
       "\n",
       "       MoSold  YrSold  SalePrice  \n",
       "count  1460.0  1460.0     1460.0  \n",
       "mean      6.3  2007.8   180921.2  \n",
       "std       2.7     1.3    79442.5  \n",
       "min       1.0  2006.0    34900.0  \n",
       "25%       5.0  2007.0   129975.0  \n",
       "50%       6.0  2008.0   163000.0  \n",
       "75%       8.0  2009.0   214000.0  \n",
       "max      12.0  2010.0   755000.0  \n",
       "\n",
       "[8 rows x 38 columns]"
      ]
     },
     "execution_count": 58,
     "metadata": {},
     "output_type": "execute_result"
    }
   ],
   "source": [
    "# Просматриваем все числовые столбцы\n",
    "df.describe().round(1)"
   ]
  },
  {
   "cell_type": "code",
   "execution_count": 59,
   "metadata": {},
   "outputs": [
    {
     "name": "stdout",
     "output_type": "stream",
     "text": [
      "<class 'pandas.core.series.Series'>\n",
      "RangeIndex: 1460 entries, 0 to 1459\n",
      "Series name: SalePrice\n",
      "Non-Null Count  Dtype\n",
      "--------------  -----\n",
      "1460 non-null   int64\n",
      "dtypes: int64(1)\n",
      "memory usage: 11.5 KB\n"
     ]
    },
    {
     "data": {
      "text/plain": [
       "array([208500, 181500, 223500, 140000, 250000, 143000, 307000, 200000,\n",
       "       129900, 118000, 129500, 345000, 144000, 279500, 157000, 132000,\n",
       "       149000,  90000, 159000, 139000, 325300, 139400, 230000, 154000,\n",
       "       256300, 134800, 306000, 207500,  68500,  40000, 149350, 179900,\n",
       "       165500, 277500, 309000, 145000, 153000, 109000,  82000, 160000,\n",
       "       170000, 130250, 141000, 319900, 239686, 249700, 113000, 127000,\n",
       "       177000, 114500, 110000, 385000, 130000, 180500, 172500, 196500,\n",
       "       438780, 124900, 158000, 101000, 202500, 219500, 317000, 180000,\n",
       "       226000,  80000, 225000, 244000, 185000, 144900, 107400,  91000,\n",
       "       135750, 136500, 193500, 153500, 245000, 126500, 168500, 260000,\n",
       "       174000, 164500,  85000, 123600, 109900,  98600, 163500, 133900,\n",
       "       204750, 214000,  94750,  83000, 128950, 205000, 178000, 118964,\n",
       "       198900, 169500, 100000, 115000, 190000, 136900, 383970, 217000,\n",
       "       259500, 176000, 155000, 320000, 163990, 136000, 153900, 181000,\n",
       "        84500, 128000,  87000, 150000, 150750, 220000, 171000, 231500,\n",
       "       166000, 204000, 125000, 105000, 222500, 122000, 372402, 235000,\n",
       "        79000, 109500, 269500, 254900, 162500, 412500, 103200, 152000,\n",
       "       127500, 325624, 183500, 228000, 128500, 215000, 239000, 163000,\n",
       "       184000, 243000, 211000, 501837, 200100, 120000, 475000, 173000,\n",
       "       135000, 153337, 286000, 315000, 192000, 148500, 311872, 104000,\n",
       "       274900, 171500, 112000, 143900, 277000,  98000, 186000, 252678,\n",
       "       156000, 161750, 134450, 210000, 107000, 311500, 167240, 204900,\n",
       "        97000, 386250, 290000, 106000, 192500, 148000, 403000,  94500,\n",
       "       128200, 216500,  89500, 185500, 194500, 318000, 262500, 110500,\n",
       "       241500, 137000,  76500, 276000, 151000,  73000, 175500, 179500,\n",
       "       120500, 266000, 124500, 201000, 415298, 228500, 244600, 179200,\n",
       "       164700,  88000, 153575, 233230, 135900, 131000, 167000, 142500,\n",
       "       175000, 158500, 267000, 149900, 295000, 305900,  82500, 360000,\n",
       "       165600, 119900, 375000, 188500, 270000, 187500, 342643, 354000,\n",
       "       301000, 126175, 242000, 324000, 145250, 214500,  78000, 119000,\n",
       "       284000, 207000, 228950, 377426, 202900,  87500, 140200, 151500,\n",
       "       157500, 437154, 318061,  95000, 105900, 177500, 134000, 280000,\n",
       "       198500, 147000, 165000, 162000, 172400, 134432, 123000,  61000,\n",
       "       340000, 394432, 179000, 187750, 213500,  76000, 240000,  81000,\n",
       "       191000, 426000, 106500, 129000,  67000, 241000, 245500, 164990,\n",
       "       108000, 258000, 168000, 339750,  60000, 222000, 181134, 149500,\n",
       "       126000, 142000, 206300, 275000, 109008, 195400,  85400,  79900,\n",
       "       122500, 212000, 116000,  90350, 555000, 162900, 199900, 119500,\n",
       "       188000, 256000, 161000, 263435,  62383, 188700, 124000, 178740,\n",
       "       146500, 187000, 440000, 251000, 132500, 208900, 380000, 297000,\n",
       "        89471, 326000, 374000, 164000,  86000, 133000, 172785,  91300,\n",
       "        34900, 430000, 226700, 289000, 208300, 164900, 202665,  96500,\n",
       "       402861, 265000, 234000, 106250, 184750, 315750, 446261, 200624,\n",
       "       107500,  39300, 111250, 272000, 248000, 213250, 179665, 229000,\n",
       "       263000, 112500, 255500, 121500, 268000, 325000, 316600, 135960,\n",
       "       142600, 224500, 118500, 146000, 131500, 181900, 253293, 369900,\n",
       "        79500, 185900, 451950, 138000, 319000, 114504, 194201, 217500,\n",
       "       221000, 359100, 313000, 261500,  75500, 137500, 183200, 105500,\n",
       "       314813, 305000, 165150, 139900, 209500,  93000, 264561, 274000,\n",
       "       370878, 143250,  98300, 205950, 350000, 145500,  97500, 197900,\n",
       "       402000, 423000, 230500, 173500, 103600, 257500, 372500, 159434,\n",
       "       285000, 227875, 148800, 392000, 194700, 755000, 335000, 108480,\n",
       "       141500,  89000, 123500, 138500, 196000, 312500, 361919, 213000,\n",
       "        55000, 302000, 254000, 179540,  52000, 102776, 189000, 130500,\n",
       "       159500, 341000, 103000, 236500, 131400,  93500, 239900, 299800,\n",
       "       236000, 265979, 260400, 275500, 158900, 179400, 215200, 337000,\n",
       "       264132, 216837, 538000, 134900, 102000, 395000, 221500, 175900,\n",
       "       187100, 161500, 233000, 107900, 160200, 146800, 269790, 143500,\n",
       "       485000, 582933, 227680, 135500, 159950, 144500,  55993, 157900,\n",
       "       224900, 271000, 224000, 183000, 139500, 232600, 147400, 237000,\n",
       "       139950, 174900, 133500, 189950, 250580, 248900, 169000, 200500,\n",
       "        66500, 303477, 132250, 328900, 122900, 154500, 118858, 142953,\n",
       "       611657, 125500, 255000, 154300, 173733,  75000,  35311, 238000,\n",
       "       176500, 145900, 169990, 193000, 117500, 184900, 253000, 239799,\n",
       "       244400, 150900, 197500, 172000, 116500, 214900, 178900,  37900,\n",
       "        99500, 182000, 167500,  85500, 178400, 336000, 159895, 255900,\n",
       "       117000, 395192, 195000, 197000, 348000, 173900, 337500, 121600,\n",
       "       206000, 232000, 136905, 119200, 227000, 203000, 213490, 194000,\n",
       "       287000, 293077, 310000, 119750,  84000, 315500, 262280, 278000,\n",
       "       139600, 556581,  84900, 176485, 200141, 185850, 328000, 167900,\n",
       "       151400,  91500, 138800, 155900,  83500, 252000,  92900, 176432,\n",
       "       274725, 134500, 184100, 133700, 118400, 212900, 163900, 259000,\n",
       "       239500,  94000, 424870, 174500, 116900, 201800, 218000, 235128,\n",
       "       108959, 233170, 245350, 625000, 171900, 154900, 392500, 745000,\n",
       "       186700, 104900, 262000, 219210, 116050, 271900, 229456,  80500,\n",
       "       137900, 367294, 101800, 138887, 265900, 248328, 465000, 186500,\n",
       "       169900, 171750, 294000, 165400, 301500,  99900, 128900, 183900,\n",
       "       378500, 381000, 185750,  68400, 150500, 281000, 333168, 206900,\n",
       "       295493, 111000, 156500,  72500,  52500, 155835, 108500, 283463,\n",
       "       410000, 156932, 144152, 216000, 274300, 466500,  58500, 237500,\n",
       "       377500, 246578, 281213, 137450, 193879, 282922, 257000, 223000,\n",
       "       274970, 182900, 192140, 143750,  64500, 394617, 149700, 149300,\n",
       "       121000, 179600,  92000, 287090, 266500, 142125, 147500],\n",
       "      dtype=int64)"
      ]
     },
     "execution_count": 59,
     "metadata": {},
     "output_type": "execute_result"
    }
   ],
   "source": [
    "# Обработка для столбца GarageFinish: Interior finish of the garage(Отделка гаража: Внутренняя отделка гаража):\n",
    "df['SalePrice'].info() # Определяем тип данных, количество значений\n",
    "df['SalePrice'].unique() # Поиск уникальных значений"
   ]
  },
  {
   "cell_type": "code",
   "execution_count": 61,
   "metadata": {},
   "outputs": [
    {
     "data": {
      "text/plain": [
       "array([208500., 181500., 223500., 140000., 250000., 143000., 307000.,\n",
       "       200000., 129900., 118000., 129500., 345000., 144000., 279500.,\n",
       "       157000., 132000., 149000.,  90000., 159000., 139000., 325300.,\n",
       "       139400., 230000., 154000., 256300., 134800., 306000., 207500.,\n",
       "        68500.,  40000., 149350., 179900., 165500., 277500., 309000.,\n",
       "       145000., 153000., 109000.,  82000., 160000., 170000., 130250.,\n",
       "       141000., 319900., 239686., 249700., 113000., 127000., 177000.,\n",
       "       114500., 110000., 385000., 130000., 180500., 172500., 196500.,\n",
       "       438780., 124900., 158000., 101000., 202500., 219500., 317000.,\n",
       "       180000., 226000.,  80000., 225000., 244000., 185000., 144900.,\n",
       "       107400.,  91000., 135750., 136500., 193500., 153500., 245000.,\n",
       "       126500., 168500., 260000., 174000., 164500.,  85000., 123600.,\n",
       "       109900.,  98600., 163500., 133900., 204750., 214000.,  94750.,\n",
       "        83000., 128950., 205000., 178000., 118964., 198900., 169500.,\n",
       "       100000., 115000., 190000., 136900., 383970., 217000., 259500.,\n",
       "       176000., 155000., 320000., 163990., 136000., 153900., 181000.,\n",
       "        84500., 128000.,  87000., 150000., 150750., 220000., 171000.,\n",
       "       231500., 166000., 204000., 125000., 105000., 222500., 122000.,\n",
       "       372402., 235000.,  79000., 109500., 269500., 254900., 162500.,\n",
       "       412500., 103200., 152000., 127500., 325624., 183500., 228000.,\n",
       "       128500., 215000., 239000., 163000., 184000., 243000., 211000.,\n",
       "       501837., 200100., 120000., 475000., 173000., 135000., 153337.,\n",
       "       286000., 315000., 192000., 148500., 311872., 104000., 274900.,\n",
       "       171500., 112000., 143900., 277000.,  98000., 186000., 252678.,\n",
       "       156000., 161750., 134450., 210000., 107000., 311500., 167240.,\n",
       "       204900.,  97000., 386250., 290000., 106000., 192500., 148000.,\n",
       "       403000.,  94500., 128200., 216500.,  89500., 185500., 194500.,\n",
       "       318000., 262500., 110500., 241500., 137000.,  76500., 276000.,\n",
       "       151000.,  73000., 175500., 179500., 120500., 266000., 124500.,\n",
       "       201000., 415298., 228500., 244600., 179200., 164700.,  88000.,\n",
       "       153575., 233230., 135900., 131000., 167000., 142500., 175000.,\n",
       "       158500., 267000., 149900., 295000., 305900.,  82500., 360000.,\n",
       "       165600., 119900., 375000., 188500., 270000., 187500., 342643.,\n",
       "       354000., 301000., 126175., 242000., 324000., 145250., 214500.,\n",
       "        78000., 119000., 284000., 207000., 228950., 377426., 202900.,\n",
       "        87500., 140200., 151500., 157500., 437154., 318061.,  95000.,\n",
       "       105900., 177500., 134000., 280000., 198500., 147000., 165000.,\n",
       "       162000., 172400., 134432., 123000.,  61000., 340000., 394432.,\n",
       "       179000., 187750., 213500.,  76000., 240000.,  81000., 191000.,\n",
       "       426000., 106500., 129000.,  67000., 241000., 245500., 164990.,\n",
       "       108000., 258000., 168000., 339750.,  60000., 222000., 181134.,\n",
       "       149500., 126000., 142000., 206300., 275000., 109008., 195400.,\n",
       "        85400.,  79900., 122500., 212000., 116000.,  90350., 555000.,\n",
       "       162900., 199900., 119500., 188000., 256000., 161000., 263435.,\n",
       "        62383., 188700., 124000., 178740., 146500., 187000., 440000.,\n",
       "       251000., 132500., 208900., 380000., 297000.,  89471., 326000.,\n",
       "       374000., 164000.,  86000., 133000., 172785.,  91300.,  34900.,\n",
       "       430000., 226700., 289000., 208300., 164900., 202665.,  96500.,\n",
       "       402861., 265000., 234000., 106250., 184750., 315750., 446261.,\n",
       "       200624., 107500.,  39300., 111250., 272000., 248000., 213250.,\n",
       "       179665., 229000., 263000., 112500., 255500., 121500., 268000.,\n",
       "       325000., 316600., 135960., 142600., 224500., 118500., 146000.,\n",
       "       131500., 181900., 253293., 369900.,  79500., 185900., 451950.,\n",
       "       138000., 319000., 114504., 194201., 217500., 221000., 359100.,\n",
       "       313000., 261500.,  75500., 137500., 183200., 105500., 314813.,\n",
       "       305000., 165150., 139900., 209500.,  93000., 264561., 274000.,\n",
       "       370878., 143250.,  98300., 205950., 350000., 145500.,  97500.,\n",
       "       197900., 402000., 423000., 230500., 173500., 103600., 257500.,\n",
       "       372500., 159434., 285000., 227875., 148800., 392000., 194700.,\n",
       "       755000., 335000., 108480., 141500.,  89000., 123500., 138500.,\n",
       "       196000., 312500., 361919., 213000.,  55000., 302000., 254000.,\n",
       "       179540.,  52000., 102776., 189000., 130500., 159500., 341000.,\n",
       "       103000., 236500., 131400.,  93500., 239900., 299800., 236000.,\n",
       "       265979., 260400., 275500., 158900., 179400., 215200., 337000.,\n",
       "       264132., 216837., 538000., 134900., 102000., 395000., 221500.,\n",
       "       175900., 187100., 161500., 233000., 107900., 160200., 146800.,\n",
       "       269790., 143500., 485000., 582933., 227680., 135500., 159950.,\n",
       "       144500.,  55993., 157900., 224900., 271000., 224000., 183000.,\n",
       "       139500., 232600., 147400., 237000., 139950., 174900., 133500.,\n",
       "       189950., 250580., 248900., 169000., 200500.,  66500., 303477.,\n",
       "       132250., 328900., 122900., 154500., 118858., 142953., 611657.,\n",
       "       125500., 255000., 154300., 173733.,  75000.,  35311., 238000.,\n",
       "       176500., 145900., 169990., 193000., 117500., 184900., 253000.,\n",
       "       239799., 244400., 150900., 197500., 172000., 116500., 214900.,\n",
       "       178900.,  37900.,  99500., 182000., 167500.,  85500., 178400.,\n",
       "       336000., 159895., 255900., 117000., 395192., 195000., 197000.,\n",
       "       348000., 173900., 337500., 121600., 206000., 232000., 136905.,\n",
       "       119200., 227000., 203000., 213490., 194000., 287000., 293077.,\n",
       "       310000., 119750.,  84000., 315500., 262280., 278000., 139600.,\n",
       "       556581.,  84900., 176485., 200141., 185850., 328000., 167900.,\n",
       "       151400.,  91500., 138800., 155900.,  83500., 252000.,  92900.,\n",
       "       176432., 274725., 134500., 184100., 133700., 118400., 212900.,\n",
       "       163900., 259000., 239500.,  94000., 424870., 174500., 116900.,\n",
       "       201800., 218000., 235128., 108959., 233170., 245350., 625000.,\n",
       "       171900., 154900., 392500., 745000., 186700., 104900., 262000.,\n",
       "       219210., 116050., 271900., 229456.,  80500., 137900., 367294.,\n",
       "       101800., 138887., 265900., 248328., 465000., 186500., 169900.,\n",
       "       171750., 294000., 165400., 301500.,  99900., 128900., 183900.,\n",
       "       378500., 381000., 185750.,  68400., 150500., 281000., 333168.,\n",
       "       206900., 295493., 111000., 156500.,  72500.,  52500., 155835.,\n",
       "       108500., 283463., 410000., 156932., 144152., 216000., 274300.,\n",
       "       466500.,  58500., 237500., 377500., 246578., 281213., 137450.,\n",
       "       193879., 282922., 257000., 223000., 274970., 182900., 192140.,\n",
       "       143750.,  64500., 394617., 149700., 149300., 121000., 179600.,\n",
       "        92000., 287090., 266500., 142125., 147500.])"
      ]
     },
     "execution_count": 61,
     "metadata": {},
     "output_type": "execute_result"
    }
   ],
   "source": [
    "# По начальному состоянию видим, что здесь не используются значения int в следствии чего переводит в float поскольку цены могут быть с копейками\n",
    "# Преобразуем округленные значения в int\n",
    "df['SalePrice'] = df['SalePrice'].astype(float)\n",
    "# Проверяем\n",
    "df['SalePrice'].unique()"
   ]
  },
  {
   "cell_type": "code",
   "execution_count": 57,
   "metadata": {},
   "outputs": [
    {
     "name": "stdout",
     "output_type": "stream",
     "text": [
      "Уникальные значения в столбце 'MSZoning': ['RL' 'RM' 'C (all)' 'FV' 'RH']\n",
      "Уникальные значения в столбце 'Street': ['Pave' 'Grvl']\n",
      "Уникальные значения в столбце 'Alley': ['Grvl' 'Pave']\n",
      "Уникальные значения в столбце 'LotShape': ['Reg' 'IR1' 'IR2' 'IR3']\n",
      "Уникальные значения в столбце 'LandContour': ['Lvl' 'Bnk' 'Low' 'HLS']\n",
      "Уникальные значения в столбце 'Utilities': ['AllPub' 'NoSeWa']\n",
      "Уникальные значения в столбце 'LotConfig': ['Inside' 'FR2' 'Corner' 'CulDSac' 'FR3']\n",
      "Уникальные значения в столбце 'LandSlope': ['Gtl' 'Mod' 'Sev']\n",
      "Уникальные значения в столбце 'Neighborhood': ['CollgCr' 'Veenker' 'Crawfor' 'NoRidge' 'Mitchel' 'Somerst' 'NWAmes'\n",
      " 'OldTown' 'BrkSide' 'Sawyer' 'NridgHt' 'NAmes' 'SawyerW' 'IDOTRR'\n",
      " 'MeadowV' 'Edwards' 'Timber' 'Gilbert' 'StoneBr' 'ClearCr' 'NPkVill'\n",
      " 'Blmngtn' 'BrDale' 'SWISU' 'Blueste']\n",
      "Уникальные значения в столбце 'Condition1': ['Norm' 'Feedr' 'PosN' 'Artery' 'RRAe' 'RRNn' 'RRAn' 'PosA' 'RRNe']\n",
      "Уникальные значения в столбце 'Condition2': ['Norm' 'Artery' 'RRNn' 'Feedr' 'PosN' 'PosA' 'RRAn' 'RRAe']\n",
      "Уникальные значения в столбце 'BldgType': ['1Fam' '2fmCon' 'Duplex' 'TwnhsE' 'Twnhs']\n",
      "Уникальные значения в столбце 'HouseStyle': ['2Story' '1Story' '1.5Fin' '1.5Unf' 'SFoyer' 'SLvl' '2.5Unf' '2.5Fin']\n",
      "Уникальные значения в столбце 'RoofStyle': ['Gable' 'Hip' 'Gambrel' 'Mansard' 'Flat' 'Shed']\n",
      "Уникальные значения в столбце 'RoofMatl': ['CompShg' 'WdShngl' 'Metal' 'WdShake' 'Membran' 'Tar&Grv' 'Roll'\n",
      " 'ClyTile']\n",
      "Уникальные значения в столбце 'Exterior1st': ['VinylSd' 'MetalSd' 'Wd Sdng' 'HdBoard' 'BrkFace' 'WdShing' 'CemntBd'\n",
      " 'Plywood' 'AsbShng' 'Stucco' 'BrkComm' 'AsphShn' 'Stone' 'ImStucc'\n",
      " 'CBlock']\n",
      "Уникальные значения в столбце 'Exterior2nd': ['VinylSd' 'MetalSd' 'Wd Shng' 'HdBoard' 'Plywood' 'Wd Sdng' 'CmentBd'\n",
      " 'BrkFace' 'Stucco' 'AsbShng' 'Brk Cmn' 'ImStucc' 'AsphShn' 'Stone'\n",
      " 'Other' 'CBlock']\n",
      "Уникальные значения в столбце 'MasVnrType': ['BrkFace' 'NoType' 'Stone' 'BrkCmn']\n",
      "Уникальные значения в столбце 'ExterQual': ['Gd' 'TA' 'Ex' 'Fa']\n",
      "Уникальные значения в столбце 'ExterCond': ['TA' 'Gd' 'Fa' 'Po' 'Ex']\n",
      "Уникальные значения в столбце 'Foundation': ['PConc' 'CBlock' 'BrkTil' 'Wood' 'Slab' 'Stone']\n",
      "Уникальные значения в столбце 'BsmtQual': ['Gd' 'TA' 'Ex' 'NC' 'Fa']\n",
      "Уникальные значения в столбце 'BsmtExposure': ['No' 'Gd' 'Mn' 'Av' 'Mis']\n",
      "Уникальные значения в столбце 'Heating': ['GasA' 'GasW' 'Grav' 'Wall' 'OthW' 'Floor']\n",
      "Уникальные значения в столбце 'HeatingQC': ['Ex' 'Gd' 'TA' 'Fa' 'Po']\n",
      "Уникальные значения в столбце 'CentralAir': ['Y' 'N']\n",
      "Уникальные значения в столбце 'Electrical': ['SBrkr' 'FuseF' 'FuseA' 'FuseP' 'Mix']\n",
      "Уникальные значения в столбце 'KitchenQual': ['Gd' 'TA' 'Ex' 'Fa']\n",
      "Уникальные значения в столбце 'Functional': ['Typ' 'Min1' 'Maj1' 'Min2' 'Mod' 'Maj2' 'Sev']\n",
      "Уникальные значения в столбце 'GarageType': ['Attchd' 'Detchd' 'BuiltIn' 'CarPort' 'NoType' 'Basment' '2Types']\n",
      "Уникальные значения в столбце 'GarageFinish': ['RFn' 'Unf' 'Fin' 'Nope']\n",
      "Уникальные значения в столбце 'PavedDrive': ['Y' 'N' 'P']\n",
      "Уникальные значения в столбце 'SaleType': ['WD' 'New' 'COD' 'ConLD' 'ConLI' 'CWD' 'ConLw' 'Con' 'Oth']\n",
      "Уникальные значения в столбце 'SaleCondition': ['Normal' 'Abnorml' 'Partial' 'AdjLand' 'Alloca' 'Family']\n"
     ]
    }
   ],
   "source": [
    "# Делаем цикл и ищем объекты, проверяем их\n",
    "for col in df.columns:\n",
    "    if df[col].dtype == 'object':\n",
    "        unique_values = df[col].unique()\n",
    "        print(f\"Уникальные значения в столбце '{col}': {unique_values}\")"
   ]
  },
  {
   "cell_type": "markdown",
   "metadata": {},
   "source": [
    "Не нужно переводить объектные типы в числовые, поскольку все значения объектных типов - строки."
   ]
  },
  {
   "cell_type": "code",
   "execution_count": 63,
   "metadata": {},
   "outputs": [
    {
     "name": "stdout",
     "output_type": "stream",
     "text": [
      "<class 'pandas.core.frame.DataFrame'>\n",
      "RangeIndex: 1460 entries, 0 to 1459\n",
      "Data columns (total 72 columns):\n",
      " #   Column         Non-Null Count  Dtype  \n",
      "---  ------         --------------  -----  \n",
      " 0   Id             1460 non-null   int64  \n",
      " 1   MSSubClass     1460 non-null   int64  \n",
      " 2   MSZoning       1460 non-null   object \n",
      " 3   LotFrontage    1460 non-null   int32  \n",
      " 4   LotArea        1460 non-null   int64  \n",
      " 5   Street         1460 non-null   object \n",
      " 6   Alley          1460 non-null   object \n",
      " 7   LotShape       1460 non-null   object \n",
      " 8   LandContour    1460 non-null   object \n",
      " 9   Utilities      1460 non-null   object \n",
      " 10  LotConfig      1460 non-null   object \n",
      " 11  LandSlope      1460 non-null   object \n",
      " 12  Neighborhood   1460 non-null   object \n",
      " 13  Condition1     1460 non-null   object \n",
      " 14  Condition2     1460 non-null   object \n",
      " 15  BldgType       1460 non-null   object \n",
      " 16  HouseStyle     1460 non-null   object \n",
      " 17  OverallQual    1460 non-null   int64  \n",
      " 18  OverallCond    1460 non-null   int64  \n",
      " 19  YearBuilt      1460 non-null   int64  \n",
      " 20  YearRemodAdd   1460 non-null   int64  \n",
      " 21  RoofStyle      1460 non-null   object \n",
      " 22  RoofMatl       1460 non-null   object \n",
      " 23  Exterior1st    1460 non-null   object \n",
      " 24  Exterior2nd    1460 non-null   object \n",
      " 25  MasVnrType     1460 non-null   object \n",
      " 26  MasVnrArea     1460 non-null   float64\n",
      " 27  ExterQual      1460 non-null   object \n",
      " 28  ExterCond      1460 non-null   object \n",
      " 29  Foundation     1460 non-null   object \n",
      " 30  BsmtQual       1460 non-null   object \n",
      " 31  BsmtExposure   1460 non-null   object \n",
      " 32  BsmtFinSF1     1460 non-null   int64  \n",
      " 33  BsmtFinSF2     1460 non-null   int64  \n",
      " 34  BsmtUnfSF      1460 non-null   int64  \n",
      " 35  TotalBsmtSF    1460 non-null   int64  \n",
      " 36  Heating        1460 non-null   object \n",
      " 37  HeatingQC      1460 non-null   object \n",
      " 38  CentralAir     1460 non-null   object \n",
      " 39  Electrical     1460 non-null   object \n",
      " 40  1stFlrSF       1460 non-null   int64  \n",
      " 41  2ndFlrSF       1460 non-null   int64  \n",
      " 42  LowQualFinSF   1460 non-null   int64  \n",
      " 43  GrLivArea      1460 non-null   int64  \n",
      " 44  BsmtFullBath   1460 non-null   int64  \n",
      " 45  BsmtHalfBath   1460 non-null   int64  \n",
      " 46  FullBath       1460 non-null   int64  \n",
      " 47  HalfBath       1460 non-null   int64  \n",
      " 48  BedroomAbvGr   1460 non-null   int64  \n",
      " 49  KitchenAbvGr   1460 non-null   int64  \n",
      " 50  KitchenQual    1460 non-null   object \n",
      " 51  TotRmsAbvGrd   1460 non-null   int64  \n",
      " 52  Functional     1460 non-null   object \n",
      " 53  Fireplaces     1460 non-null   int64  \n",
      " 54  GarageType     1460 non-null   object \n",
      " 55  GarageYrBlt    1460 non-null   float64\n",
      " 56  GarageFinish   1460 non-null   object \n",
      " 57  GarageCars     1460 non-null   int64  \n",
      " 58  GarageArea     1460 non-null   int64  \n",
      " 59  PavedDrive     1460 non-null   object \n",
      " 60  WoodDeckSF     1460 non-null   int64  \n",
      " 61  OpenPorchSF    1460 non-null   int64  \n",
      " 62  EnclosedPorch  1460 non-null   int64  \n",
      " 63  3SsnPorch      1460 non-null   int64  \n",
      " 64  ScreenPorch    1460 non-null   int64  \n",
      " 65  PoolArea       1460 non-null   int64  \n",
      " 66  MiscVal        1460 non-null   int64  \n",
      " 67  MoSold         1460 non-null   int64  \n",
      " 68  YrSold         1460 non-null   int64  \n",
      " 69  SaleType       1460 non-null   object \n",
      " 70  SaleCondition  1460 non-null   object \n",
      " 71  SalePrice      1460 non-null   float64\n",
      "dtypes: float64(3), int32(1), int64(34), object(34)\n",
      "memory usage: 815.7+ KB\n"
     ]
    }
   ],
   "source": [
    "# Проверяем итоговый результат\n",
    "df.info()"
   ]
  },
  {
   "cell_type": "markdown",
   "metadata": {},
   "source": [
    "4. Проведите разведочный анализ данных (EDA), ответив на следующие вопросы: \n",
    "- a. Каково распределение целевой переменной 'SalePrice'? Есть ли какие-либо выбросы? \n",
    "- b. Исследуйте взаимосвязи между целевой переменной и другими характеристиками. Есть ли сильные корреляции? \n",
    "- c. Исследуйте распределение и взаимосвязи других важных характеристик, таких как 'OverallQual', 'GrLivArea', 'GarageCars' и т.д. \n",
    "- d. Визуализируйте данные, используя соответствующие графики (например, гистограммы, диаграммы рассеяния, квадратные диаграммы), чтобы получить представление о датасете."
   ]
  },
  {
   "cell_type": "code",
   "execution_count": 77,
   "metadata": {},
   "outputs": [
    {
     "data": {
      "text/plain": [
       "count      1460.0\n",
       "mean     180921.2\n",
       "std       79442.5\n",
       "min       34900.0\n",
       "25%      129975.0\n",
       "50%      163000.0\n",
       "75%      214000.0\n",
       "max      755000.0\n",
       "Name: SalePrice, dtype: float64"
      ]
     },
     "execution_count": 77,
     "metadata": {},
     "output_type": "execute_result"
    }
   ],
   "source": [
    "# Смотрим значения переменной 'SalePrice'\n",
    "df['SalePrice'].describe().round(2)"
   ]
  },
  {
   "cell_type": "code",
   "execution_count": 64,
   "metadata": {},
   "outputs": [],
   "source": [
    "# Проверяем 'SalePrice' на выбросы\n",
    "from scipy import stats\n",
    "z = np.abs(stats.zscore(df['SalePrice'])) # вычисляем z-оценки для столбца SalePrice в df\n",
    "threshold = 3 # установка максимального значения z-score\n",
    "outliners = df['SalePrice'][z > threshold] # выявление выбросов по z-score "
   ]
  },
  {
   "cell_type": "code",
   "execution_count": 80,
   "metadata": {},
   "outputs": [
    {
     "data": {
      "text/plain": [
       "180921.19589041095"
      ]
     },
     "execution_count": 80,
     "metadata": {},
     "output_type": "execute_result"
    }
   ],
   "source": [
    "df['SalePrice'].mean() # определяе средние значение"
   ]
  },
  {
   "cell_type": "code",
   "execution_count": 66,
   "metadata": {},
   "outputs": [
    {
     "data": {
      "text/plain": [
       "58      438780.0\n",
       "178     501837.0\n",
       "185     475000.0\n",
       "349     437154.0\n",
       "389     426000.0\n",
       "440     555000.0\n",
       "473     440000.0\n",
       "496     430000.0\n",
       "527     446261.0\n",
       "591     451950.0\n",
       "664     423000.0\n",
       "691     755000.0\n",
       "769     538000.0\n",
       "798     485000.0\n",
       "803     582933.0\n",
       "898     611657.0\n",
       "1046    556581.0\n",
       "1142    424870.0\n",
       "1169    625000.0\n",
       "1182    745000.0\n",
       "1243    465000.0\n",
       "1373    466500.0\n",
       "Name: SalePrice, dtype: float64"
      ]
     },
     "execution_count": 66,
     "metadata": {},
     "output_type": "execute_result"
    }
   ],
   "source": [
    "# печатаем выбросы\n",
    "outliners"
   ]
  },
  {
   "cell_type": "code",
   "execution_count": 68,
   "metadata": {},
   "outputs": [],
   "source": [
    "# Модули для построения графиков\n",
    "import matplotlib.pyplot as plt\n",
    "import seaborn as sns"
   ]
  },
  {
   "cell_type": "code",
   "execution_count": 81,
   "metadata": {},
   "outputs": [
    {
     "data": {
      "image/png": "[encoded data removed]",
      "text/plain": [
       "<Figure size 800x600 with 1 Axes>"
      ]
     },
     "metadata": {},
     "output_type": "display_data"
    }
   ],
   "source": [
    "# Визуализация выбросов график \"Ящик с усами\"\n",
    "plt.figure(figsize=(10, 10))\n",
    "sns.boxplot(data=df, y='SalePrice')\n",
    "plt.title('SalePrice')\n",
    "plt.ylabel('Цена')\n",
    "plt.show()"
   ]
  },
  {
   "cell_type": "markdown",
   "metadata": {},
   "source": [
    "Выбросы обнаружены однако их обработка согласно заданию не требуется."
   ]
  },
  {
   "cell_type": "code",
   "execution_count": 74,
   "metadata": {},
   "outputs": [
    {
     "data": {
      "image/png": "[encoded data removed]",
      "text/plain": [
       "<Figure size 1000x1000 with 1 Axes>"
      ]
     },
     "metadata": {},
     "output_type": "display_data"
    }
   ],
   "source": [
    "# Делаем визуальное распределение целевой переменной 'SalePrice'\n",
    "plt.figure(figsize=(10, 10))\n",
    "sns.histplot(df[\"SalePrice\"], kde=True)\n",
    "plt.xlabel(\"SalePrice\")\n",
    "plt.ylabel(\"Count\")\n",
    "plt.title(\"Distribution of SalePrice\")\n",
    "plt.show()"
   ]
  },
  {
   "cell_type": "code",
   "execution_count": null,
   "metadata": {},
   "outputs": [],
   "source": []
  },
  {
   "cell_type": "markdown",
   "metadata": {},
   "source": [
    "5. Выполните проектирование признаков путем реализации следующих преобразований: \n",
    "- a. Работайте с категориальными переменными, применяя one-hot encoding или label encoding, в зависимости от характера переменной. \n",
    "- b. При необходимости создайте новые характеристики, такие как общая площадь или возраст объекта недвижимости, путем объединения существующих характеристик."
   ]
  },
  {
   "cell_type": "markdown",
   "metadata": {},
   "source": [
    "6. Сохраните очищенный и преобразованный набор данных в новый CSV-файл под названием 'cleaned_house_prices.csv'."
   ]
  }
 ],
 "metadata": {
  "kernelspec": {
   "display_name": "Python 3",
   "language": "python",
   "name": "python3"
  },
  "language_info": {
   "codemirror_mode": {
    "name": "ipython",
    "version": 3
   },
   "file_extension": ".py",
   "mimetype": "text/x-python",
   "name": "python",
   "nbconvert_exporter": "python",
   "pygments_lexer": "ipython3",
   "version": "3.10.0rc2"
  }
 },
 "nbformat": 4,
 "nbformat_minor": 2
}
